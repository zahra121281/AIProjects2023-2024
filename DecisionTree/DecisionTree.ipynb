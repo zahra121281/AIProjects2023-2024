{
 "cells": [
  {
   "cell_type": "markdown",
   "metadata": {},
   "source": [
    "Read Data from .csv files . I choosed the Ratio 60 to 40 for train data to test data ; "
   ]
  },
  {
   "cell_type": "code",
   "execution_count": 65,
   "metadata": {},
   "outputs": [],
   "source": [
    "import pandas as pa\n",
    "import numpy as np\n",
    "import re as re\n",
    "import matplotlib.pyplot as plt\n",
    "# make test and train files ; \n",
    "n = 40000\n",
    "T = 100_000\n",
    "total_Data = pa.read_csv(\"Airplane.csv\")\n",
    "\n",
    "# with open(\"Airplane.csv\") as f, open(\"Airplane_Test.csv\", \"w\") as test , open(\"Airplane_Train.csv\", \"w\") as train:\n",
    "#     for x in range(n+1):\n",
    "#         test.write(next(f))\n",
    "#     for x in range(n+1 ,T ) :\n",
    "#         train.write(next(f)) \n",
    "    "
   ]
  },
  {
   "cell_type": "code",
   "execution_count": 66,
   "metadata": {},
   "outputs": [],
   "source": [
    "test = pa.read_csv(\"Airplane_Test.csv\")\n",
    "train = pa.read_csv(\"Airplane_Train.csv\")\n",
    "test = test.drop(\"Unnamed: 0\",axis=1)\n",
    "train = train.drop(\"Unnamed: 0\",axis=1)\n",
    "model_info = [train , test ]\n",
    "Restuarnt_Data = pa.read_csv(\"Resturant.csv\")\n",
    "for data in model_info : \n",
    "    data['satisfaction'] = data['satisfaction'].map({'neutral or dissatisfied' : 0 ,'satisfied' :1} )\n",
    "    data['Arrival Delay in Minutes'] = data['Arrival Delay in Minutes'].fillna(0)"
   ]
  },
  {
   "cell_type": "markdown",
   "metadata": {},
   "source": [
    "Find most and least impactable features for the Goal column ; \n",
    "\n",
    "1. Gender"
   ]
  },
  {
   "cell_type": "code",
   "execution_count": 6,
   "metadata": {},
   "outputs": [
    {
     "name": "stdout",
     "output_type": "stream",
     "text": [
      "   Gender  satisfaction\n",
      "0  Female      0.423789\n",
      "1    Male      0.438771\n"
     ]
    }
   ],
   "source": [
    "print(train[['Gender' , 'satisfaction']].groupby(['Gender'] , as_index=False ).mean() )"
   ]
  },
  {
   "cell_type": "markdown",
   "metadata": {},
   "source": [
    "2. Type of Travel"
   ]
  },
  {
   "cell_type": "code",
   "execution_count": 7,
   "metadata": {},
   "outputs": [
    {
     "name": "stdout",
     "output_type": "stream",
     "text": [
      "    Type of Travel  satisfaction\n",
      "0  Business travel      0.579661\n",
      "1  Personal Travel      0.101069\n"
     ]
    }
   ],
   "source": [
    "print(train[['satisfaction' , 'Type of Travel' ]].groupby(['Type of Travel'] , as_index=False ).mean() )"
   ]
  },
  {
   "cell_type": "markdown",
   "metadata": {},
   "source": [
    "3. Age"
   ]
  },
  {
   "cell_type": "code",
   "execution_count": 59,
   "metadata": {},
   "outputs": [
    {
     "name": "stdout",
     "output_type": "stream",
     "text": [
      "   Age  satisfaction\n",
      "0    0      0.149672\n",
      "1    1      0.351714\n",
      "2    2      0.507613\n",
      "3    3      0.530490\n",
      "4    4      0.178429\n",
      "5    5      0.222222\n"
     ]
    }
   ],
   "source": [
    "# shoud make subset of ages; \n",
    "print(train[['Age' , 'satisfaction']].groupby(['Age'] , as_index=False ).mean() )"
   ]
  },
  {
   "cell_type": "markdown",
   "metadata": {},
   "source": [
    "Plot Age Data"
   ]
  },
  {
   "cell_type": "code",
   "execution_count": 9,
   "metadata": {},
   "outputs": [
    {
     "data": {
      "image/png": "[encoded data removed]",
      "text/plain": [
       "<Figure size 640x480 with 1 Axes>"
      ]
     },
     "metadata": {},
     "output_type": "display_data"
    }
   ],
   "source": [
    "# train_plt = plt.read_csv(\"data/air_quality_no2.csv\", index_col=0, parse_dates=True)\n",
    "unique_values,count = np.unique(train[\"Age\"], return_counts=True)\n",
    "plt.plot(unique_values,count)\n",
    "plt.show() "
   ]
  },
  {
   "cell_type": "markdown",
   "metadata": {},
   "source": [
    "4. Class"
   ]
  },
  {
   "cell_type": "code",
   "execution_count": 10,
   "metadata": {},
   "outputs": [
    {
     "name": "stdout",
     "output_type": "stream",
     "text": [
      "      Class  satisfaction\n",
      "0  Business      0.692894\n",
      "1       Eco      0.183655\n",
      "2  Eco Plus      0.238118\n"
     ]
    }
   ],
   "source": [
    "print(train[['Class' , 'satisfaction']].groupby(['Class'] , as_index=False ).mean() )"
   ]
  },
  {
   "cell_type": "markdown",
   "metadata": {},
   "source": [
    "5. Customer Type "
   ]
  },
  {
   "cell_type": "code",
   "execution_count": 11,
   "metadata": {},
   "outputs": [
    {
     "name": "stdout",
     "output_type": "stream",
     "text": [
      "       Customer Type  satisfaction\n",
      "0     Loyal Customer      0.475896\n",
      "1  disloyal Customer      0.231743\n"
     ]
    }
   ],
   "source": [
    "print(train[['Customer Type' , 'satisfaction']].groupby(['Customer Type'] , as_index=False ).mean() )"
   ]
  },
  {
   "cell_type": "markdown",
   "metadata": {},
   "source": [
    "6. Flight Distance"
   ]
  },
  {
   "cell_type": "code",
   "execution_count": 67,
   "metadata": {},
   "outputs": [
    {
     "name": "stdout",
     "output_type": "stream",
     "text": [
      "      Flight Distance  satisfaction\n",
      "0                  31      0.200000\n",
      "1                  56      0.400000\n",
      "2                  67      0.342105\n",
      "3                  73      0.314286\n",
      "4                  74      0.352941\n",
      "...               ...           ...\n",
      "3699             4243      0.555556\n",
      "3700             4502      0.400000\n",
      "3701             4817      0.333333\n",
      "3702             4963      0.333333\n",
      "3703             4983      0.750000\n",
      "\n",
      "[3704 rows x 2 columns]\n"
     ]
    }
   ],
   "source": [
    "# should have sub range \n",
    "print(train[['Flight Distance' , 'satisfaction']].groupby(['Flight Distance'] , as_index=False ).mean() )"
   ]
  },
  {
   "cell_type": "markdown",
   "metadata": {},
   "source": [
    "Plot Flight Distance "
   ]
  },
  {
   "cell_type": "code",
   "execution_count": 68,
   "metadata": {},
   "outputs": [
    {
     "data": {
      "image/png": "[encoded data removed]",
      "text/plain": [
       "<Figure size 640x480 with 1 Axes>"
      ]
     },
     "metadata": {},
     "output_type": "display_data"
    }
   ],
   "source": [
    "unique_values,count = np.unique(train[\"Flight Distance\"], return_counts=True)\n",
    "plt.plot(unique_values,count)\n",
    "plt.show() "
   ]
  },
  {
   "cell_type": "markdown",
   "metadata": {},
   "source": [
    "7. Inflight wifi service"
   ]
  },
  {
   "cell_type": "code",
   "execution_count": 14,
   "metadata": {},
   "outputs": [
    {
     "name": "stdout",
     "output_type": "stream",
     "text": [
      "   Inflight wifi service  satisfaction\n",
      "0                      0      0.996646\n",
      "1                      1      0.323432\n",
      "2                      2      0.251306\n",
      "3                      3      0.248191\n",
      "4                      4      0.597947\n",
      "5                      5      0.989721\n"
     ]
    }
   ],
   "source": [
    "print(train[['Inflight wifi service' , 'satisfaction']].groupby(['Inflight wifi service'] , as_index=False ).mean() )"
   ]
  },
  {
   "cell_type": "markdown",
   "metadata": {},
   "source": [
    "8. Departure/Arrival time convenient"
   ]
  },
  {
   "cell_type": "code",
   "execution_count": 15,
   "metadata": {},
   "outputs": [
    {
     "name": "stdout",
     "output_type": "stream",
     "text": [
      "   Departure/Arrival time convenient  satisfaction\n",
      "0                                  0      0.473217\n",
      "1                                  1      0.483972\n",
      "2                                  2      0.442452\n",
      "3                                  3      0.434180\n",
      "4                                  4      0.388061\n",
      "5                                  5      0.423002\n"
     ]
    }
   ],
   "source": [
    "print(train[['Departure/Arrival time convenient' , 'satisfaction']].groupby(['Departure/Arrival time convenient'] , as_index=False ).mean() )"
   ]
  },
  {
   "cell_type": "markdown",
   "metadata": {},
   "source": [
    "9. Ease of Online booking"
   ]
  },
  {
   "cell_type": "code",
   "execution_count": 16,
   "metadata": {},
   "outputs": [
    {
     "name": "stdout",
     "output_type": "stream",
     "text": [
      "   Ease of Online booking  satisfaction\n",
      "0                       0      0.656915\n",
      "1                       1      0.375062\n",
      "2                       2      0.302460\n",
      "3                       3      0.307089\n",
      "4                       4      0.530214\n",
      "5                       5      0.734990\n"
     ]
    }
   ],
   "source": [
    "print(train[['Ease of Online booking' , 'satisfaction']].groupby(['Ease of Online booking'] , as_index=False ).mean() )"
   ]
  },
  {
   "cell_type": "markdown",
   "metadata": {},
   "source": [
    "10. Gate location"
   ]
  },
  {
   "cell_type": "code",
   "execution_count": 17,
   "metadata": {},
   "outputs": [
    {
     "name": "stdout",
     "output_type": "stream",
     "text": [
      "   Gate location  satisfaction\n",
      "0              0      1.000000\n",
      "1              1      0.495873\n",
      "2              2      0.457657\n",
      "3              3      0.344962\n",
      "4              4      0.390784\n",
      "5              5      0.564890\n"
     ]
    }
   ],
   "source": [
    "print(train[['Gate location' , 'satisfaction']].groupby(['Gate location'] , as_index=False ).mean() )"
   ]
  },
  {
   "cell_type": "markdown",
   "metadata": {},
   "source": [
    "11. Food and drink"
   ]
  },
  {
   "cell_type": "code",
   "execution_count": 18,
   "metadata": {},
   "outputs": [
    {
     "name": "stdout",
     "output_type": "stream",
     "text": [
      "   Food and drink  satisfaction\n",
      "0               0      0.400000\n",
      "1               1      0.201968\n",
      "2               2      0.383236\n",
      "3               3      0.394988\n",
      "4               4      0.523820\n",
      "5               5      0.544398\n"
     ]
    }
   ],
   "source": [
    "print(train[['Food and drink' , 'satisfaction']].groupby(['Food and drink'] , as_index=False ).mean() )"
   ]
  },
  {
   "cell_type": "markdown",
   "metadata": {},
   "source": [
    "12. Online boarding"
   ]
  },
  {
   "cell_type": "code",
   "execution_count": 19,
   "metadata": {},
   "outputs": [
    {
     "name": "stdout",
     "output_type": "stream",
     "text": [
      "   Online boarding  satisfaction\n",
      "0                0      0.552966\n",
      "1                1      0.130713\n",
      "2                2      0.115629\n",
      "3                3      0.136677\n",
      "4                4      0.621782\n",
      "5                5      0.868595\n"
     ]
    }
   ],
   "source": [
    "print(train[['Online boarding' , 'satisfaction']].groupby(['Online boarding'] , as_index=False ).mean() )"
   ]
  },
  {
   "cell_type": "markdown",
   "metadata": {},
   "source": [
    "13. Seat comfort"
   ]
  },
  {
   "cell_type": "code",
   "execution_count": 20,
   "metadata": {},
   "outputs": [
    {
     "name": "stdout",
     "output_type": "stream",
     "text": [
      "   Seat comfort  satisfaction\n",
      "0             1      0.227306\n",
      "1             2      0.217669\n",
      "2             3      0.206202\n",
      "3             4      0.561827\n",
      "4             5      0.647047\n"
     ]
    }
   ],
   "source": [
    "print(train[['Seat comfort' , 'satisfaction']].groupby(['Seat comfort'] , as_index=False ).mean() )"
   ]
  },
  {
   "cell_type": "markdown",
   "metadata": {},
   "source": [
    "14. Inflight entertainment"
   ]
  },
  {
   "cell_type": "code",
   "execution_count": 21,
   "metadata": {},
   "outputs": [
    {
     "name": "stdout",
     "output_type": "stream",
     "text": [
      "   Inflight entertainment  satisfaction\n",
      "0                       0      0.000000\n",
      "1                       1      0.141486\n",
      "2                       2      0.208875\n",
      "3                       3      0.263801\n",
      "4                       4      0.611299\n",
      "5                       5      0.647761\n"
     ]
    }
   ],
   "source": [
    "print(train[['Inflight entertainment' , 'satisfaction']].groupby(['Inflight entertainment'] , as_index=False ).mean() )"
   ]
  },
  {
   "cell_type": "markdown",
   "metadata": {},
   "source": [
    "15. On-board service"
   ]
  },
  {
   "cell_type": "code",
   "execution_count": 22,
   "metadata": {},
   "outputs": [
    {
     "name": "stdout",
     "output_type": "stream",
     "text": [
      "   On-board service  satisfaction\n",
      "0                 0      0.000000\n",
      "1                 1      0.195345\n",
      "2                 2      0.252441\n",
      "3                 3      0.310235\n",
      "4                 4      0.532764\n",
      "5                 5      0.644688\n"
     ]
    }
   ],
   "source": [
    "print(train[['On-board service' , 'satisfaction']].groupby(['On-board service'] , as_index=False ).mean() )"
   ]
  },
  {
   "cell_type": "markdown",
   "metadata": {},
   "source": [
    "16. Leg room service"
   ]
  },
  {
   "cell_type": "code",
   "execution_count": 23,
   "metadata": {},
   "outputs": [
    {
     "name": "stdout",
     "output_type": "stream",
     "text": [
      "   Leg room service  satisfaction\n",
      "0                 0      0.317073\n",
      "1                 1      0.200268\n",
      "2                 2      0.276025\n",
      "3                 3      0.266979\n",
      "4                 4      0.578632\n",
      "5                 5      0.612468\n"
     ]
    }
   ],
   "source": [
    "print(train[['Leg room service' , 'satisfaction']].groupby(['Leg room service'] , as_index=False ).mean() )"
   ]
  },
  {
   "cell_type": "markdown",
   "metadata": {},
   "source": [
    "17. Baggage handling"
   ]
  },
  {
   "cell_type": "code",
   "execution_count": 24,
   "metadata": {},
   "outputs": [
    {
     "name": "stdout",
     "output_type": "stream",
     "text": [
      "   Baggage handling  satisfaction\n",
      "0                 1      0.297214\n",
      "1                 2      0.296409\n",
      "2                 3      0.231905\n",
      "3                 4      0.478905\n",
      "4                 5      0.610350\n"
     ]
    }
   ],
   "source": [
    "print(train[['Baggage handling' , 'satisfaction']].groupby(['Baggage handling'] , as_index=False ).mean() )"
   ]
  },
  {
   "cell_type": "markdown",
   "metadata": {},
   "source": [
    "18. Checkin service"
   ]
  },
  {
   "cell_type": "code",
   "execution_count": 25,
   "metadata": {},
   "outputs": [
    {
     "name": "stdout",
     "output_type": "stream",
     "text": [
      "   Checkin service  satisfaction\n",
      "0                1      0.237150\n",
      "1                2      0.244521\n",
      "2                3      0.443275\n",
      "3                4      0.463672\n",
      "4                5      0.610683\n"
     ]
    }
   ],
   "source": [
    "print(train[['Checkin service' , 'satisfaction']].groupby(['Checkin service'] , as_index=False ).mean() )"
   ]
  },
  {
   "cell_type": "markdown",
   "metadata": {},
   "source": [
    "19. Inflight service"
   ]
  },
  {
   "cell_type": "code",
   "execution_count": 26,
   "metadata": {},
   "outputs": [
    {
     "name": "stdout",
     "output_type": "stream",
     "text": [
      "   Inflight service  satisfaction\n",
      "0                 0      0.000000\n",
      "1                 1      0.289002\n",
      "2                 2      0.303520\n",
      "3                 3      0.232217\n",
      "4                 4      0.475424\n",
      "5                 5      0.610614\n"
     ]
    }
   ],
   "source": [
    "print(train[['Inflight service' , 'satisfaction']].groupby(['Inflight service'] , as_index=False ).mean() )"
   ]
  },
  {
   "cell_type": "markdown",
   "metadata": {},
   "source": [
    "20. Cleanliness"
   ]
  },
  {
   "cell_type": "code",
   "execution_count": 27,
   "metadata": {},
   "outputs": [
    {
     "name": "stdout",
     "output_type": "stream",
     "text": [
      "   Cleanliness  satisfaction\n",
      "0            0      0.000000\n",
      "1            1      0.195652\n",
      "2            2      0.207320\n",
      "3            3      0.431140\n",
      "4            4      0.533120\n",
      "5            5      0.606125\n"
     ]
    }
   ],
   "source": [
    "print(train[['Cleanliness' , 'satisfaction']].groupby(['Cleanliness'] , as_index=False ).mean() )"
   ]
  },
  {
   "cell_type": "markdown",
   "metadata": {},
   "source": [
    "21. Departure Delay in Minutes"
   ]
  },
  {
   "cell_type": "code",
   "execution_count": 28,
   "metadata": {},
   "outputs": [
    {
     "name": "stdout",
     "output_type": "stream",
     "text": [
      "     Departure Delay in Minutes  satisfaction\n",
      "0                             0      0.454101\n",
      "1                             1      0.454759\n",
      "2                             2      0.458495\n",
      "3                             3      0.432849\n",
      "4                             4      0.428571\n",
      "..                          ...           ...\n",
      "391                         930      0.000000\n",
      "392                         933      1.000000\n",
      "393                         978      0.000000\n",
      "394                        1017      1.000000\n",
      "395                        1592      0.000000\n",
      "\n",
      "[396 rows x 2 columns]\n"
     ]
    }
   ],
   "source": [
    "print(train[['Departure Delay in Minutes' , 'satisfaction']].groupby(['Departure Delay in Minutes'] , as_index=False ).mean() )"
   ]
  },
  {
   "cell_type": "markdown",
   "metadata": {},
   "source": [
    "Plot  Departure delay in miunts "
   ]
  },
  {
   "cell_type": "code",
   "execution_count": 29,
   "metadata": {},
   "outputs": [
    {
     "data": {
      "image/png": "[encoded data removed]",
      "text/plain": [
       "<Figure size 640x480 with 1 Axes>"
      ]
     },
     "metadata": {},
     "output_type": "display_data"
    }
   ],
   "source": [
    "unique_values,count = np.unique(train[\"Departure Delay in Minutes\"], return_counts=True)\n",
    "plt.plot(unique_values,count)\n",
    "plt.show() "
   ]
  },
  {
   "cell_type": "markdown",
   "metadata": {},
   "source": [
    "22. Arrival Delay in Minutes"
   ]
  },
  {
   "cell_type": "code",
   "execution_count": 30,
   "metadata": {},
   "outputs": [
    {
     "name": "stdout",
     "output_type": "stream",
     "text": [
      "     Arrival Delay in Minutes  satisfaction\n",
      "0                         0.0      0.470016\n",
      "1                         1.0      0.456505\n",
      "2                         2.0      0.469317\n",
      "3                         3.0      0.492793\n",
      "4                         4.0      0.484489\n",
      "..                        ...           ...\n",
      "404                     924.0      0.000000\n",
      "405                     952.0      0.000000\n",
      "406                     970.0      0.000000\n",
      "407                    1011.0      1.000000\n",
      "408                    1584.0      0.000000\n",
      "\n",
      "[409 rows x 2 columns]\n"
     ]
    }
   ],
   "source": [
    "print(train[['Arrival Delay in Minutes' , 'satisfaction']].groupby(['Arrival Delay in Minutes'] , as_index=False ).mean() )\n"
   ]
  },
  {
   "cell_type": "markdown",
   "metadata": {},
   "source": [
    "Plot Arrival Delay in Minutes"
   ]
  },
  {
   "cell_type": "code",
   "execution_count": 31,
   "metadata": {},
   "outputs": [
    {
     "data": {
      "image/png": "[encoded data removed]",
      "text/plain": [
       "<Figure size 640x480 with 1 Axes>"
      ]
     },
     "metadata": {},
     "output_type": "display_data"
    }
   ],
   "source": [
    "unique_values,count = np.unique(train[\"Arrival Delay in Minutes\"], return_counts=True)\n",
    "plt.plot(unique_values,count)\n",
    "plt.show() "
   ]
  },
  {
   "cell_type": "markdown",
   "metadata": {},
   "source": [
    "Drop less important columns and insert a new column \n",
    "in previous blocks which represent 2 plots for \"Arrival Delay in Minutes\" and \"Departure Delay in Minutes\" I realized that these 2 diagrams are same approxiamately so I made a new column named \"Arrival/Departure Delay in Minutes\" which is the average of previous columns ; \n",
    "I also delete \"id\" and \"Departure/Arrival time convenient\" columns becase of their tiny affect on final result ; "
   ]
  },
  {
   "cell_type": "code",
   "execution_count": 32,
   "metadata": {},
   "outputs": [],
   "source": [
    "\n",
    "train = train.drop( \"id\", axis='columns' )\n",
    "test = test.drop( \"id\", axis='columns' )  \n",
    "train = train.drop( \"Departure/Arrival time convenient\", axis='columns' )\n",
    "test = test.drop( \"Departure/Arrival time convenient\", axis='columns' ) \n",
    "train = train.drop( \"Gender\", axis='columns' )\n",
    "test = test.drop( \"Gender\", axis='columns' ) \n",
    "\n",
    "\n",
    "c0 =  train['Departure Delay in Minutes']\n",
    "# print(\"max and min in age\")\n",
    "c1 = train['Arrival Delay in Minutes'] \n",
    "arrival_departure_delay = []\n",
    "for i in range(len(c0)) : \n",
    "    arrival_departure_delay.append( (int)((c0[i]+c1[i])/2) )\n",
    "train.insert(21 , 'Arrival/Departure Delay in Minutes' , arrival_departure_delay)\n",
    "\n",
    "c0 =  test['Departure Delay in Minutes']\n",
    "# print(\"max and min in age\")\n",
    "c1 = test['Arrival Delay in Minutes'] \n",
    "arrival_departure_delay = []\n",
    "for i in range(len(c0)) : \n",
    "    arrival_departure_delay.append( (int)((c0[i]+c1[i])/2) )\n",
    "    \n",
    "test.insert(21 , 'Arrival/Departure Delay in Minutes' , arrival_departure_delay)\n",
    "\n",
    "train = train.drop( \"Departure Delay in Minutes\", axis='columns' )\n",
    "test = test.drop( \"Departure Delay in Minutes\", axis='columns' )\n",
    "\n",
    "train = train.drop( \"Arrival Delay in Minutes\", axis='columns' ) \n",
    "test = test.drop( \"Arrival Delay in Minutes\", axis='columns' ) \n"
   ]
  },
  {
   "cell_type": "markdown",
   "metadata": {},
   "source": [
    "Check new added column"
   ]
  },
  {
   "cell_type": "code",
   "execution_count": 33,
   "metadata": {},
   "outputs": [
    {
     "name": "stdout",
     "output_type": "stream",
     "text": [
      "     Arrival/Departure Delay in Minutes  satisfaction\n",
      "0                                     0      0.466721\n",
      "1                                     1      0.479196\n",
      "2                                     2      0.477234\n",
      "3                                     3      0.417364\n",
      "4                                     4      0.408113\n",
      "..                                  ...           ...\n",
      "396                                 926      1.000000\n",
      "397                                 941      0.000000\n",
      "398                                 974      0.000000\n",
      "399                                1014      1.000000\n",
      "400                                1588      0.000000\n",
      "\n",
      "[401 rows x 2 columns]\n"
     ]
    }
   ],
   "source": [
    "print(train[['Arrival/Departure Delay in Minutes' , 'satisfaction']].groupby(['Arrival/Departure Delay in Minutes'] , as_index=False ).mean() )"
   ]
  },
  {
   "cell_type": "code",
   "execution_count": 62,
   "metadata": {},
   "outputs": [
    {
     "data": {
      "image/png": "[encoded data removed]",
      "text/plain": [
       "<Figure size 640x480 with 1 Axes>"
      ]
     },
     "metadata": {},
     "output_type": "display_data"
    }
   ],
   "source": [
    "unique_values,count = np.unique(train[\"Arrival/Departure Delay in Minutes\"], return_counts=True)\n",
    "plt.plot(unique_values,count)\n",
    "plt.show() "
   ]
  },
  {
   "cell_type": "markdown",
   "metadata": {},
   "source": [
    "Classify Columns into numaric values ; "
   ]
  },
  {
   "cell_type": "code",
   "execution_count": 35,
   "metadata": {},
   "outputs": [],
   "source": [
    "model_info = [train , test ]\n",
    "for data in model_info : \n",
    "    # #map goal column to 1 or 0 \n",
    "    # data['satisfaction'] = data['satisfaction'].map({'neutral or dissatisfied' : 0 ,'satisfied' :1} )\n",
    "\n",
    "    # classify customer type\n",
    "    data['Customer Type'] = data['Customer Type'].map({'Loyal Customer' : 1 ,'disloyal Customer' :0 } )\n",
    "\n",
    "    # classify type of travel \n",
    "    data['Type of Travel'] = data['Type of Travel'].map({'Business travel' : 0 ,'Personal Travel' :1 } )\n",
    "    # classify Class \n",
    "    data['Class'] = data['Class'].map({'Business' : 0 ,'Eco' :1 ,'Eco Plus' :2 } )\n",
    "\n",
    "    #classify Gender \n",
    "    # data['Gender'] = data['Gender'].map({'Male' : 0 ,'Female' :1 } )\n",
    "\n",
    "    # classify age \n",
    "    data.loc[data['Age'] <= 16  , 'Age']                          = 0 \n",
    "    data.loc[ (data['Age'] > 16 ) & (data['Age'] <= 32 ) , 'Age'] = 1 \n",
    "    data.loc[ (data['Age'] > 32 ) & (data['Age'] <= 48 ) , 'Age'] = 2 \n",
    "    data.loc[ (data['Age'] > 48 ) & (data['Age'] <= 64 ) , 'Age'] = 3\n",
    "    data.loc[ (data['Age'] > 64 ) & (data['Age'] <= 80 ) , 'Age'] = 4\n",
    "    data.loc[ (data['Age'] > 80 ) , 'Age']                        = 5\n",
    "    \n",
    "    # classify Arrival/Departure Delay in Minutes\n",
    "    data.loc[  data['Arrival/Departure Delay in Minutes'] == 0.0  ,      'Arrival/Departure Delay in Minutes']                                                      = 0 \n",
    "    data.loc[ (data['Arrival/Departure Delay in Minutes'] > 0.0 ) & (data['Arrival/Departure Delay in Minutes'] <= 10.0 ) , 'Arrival/Departure Delay in Minutes']   = 5 \n",
    "    data.loc[ (data['Arrival/Departure Delay in Minutes'] > 10.0 ) & (data['Arrival/Departure Delay in Minutes'] <= 20.0 ) ,  'Arrival/Departure Delay in Minutes']   = 2\n",
    "    data.loc[ (data['Arrival/Departure Delay in Minutes'] > 20.0 ) & (data['Arrival/Departure Delay in Minutes'] <= 30.0 ) ,  'Arrival/Departure Delay in Minutes']   = 3\n",
    "    data.loc[ (data['Arrival/Departure Delay in Minutes'] > 30.0 ) & (data['Arrival/Departure Delay in Minutes'] <= 50.0 ) ,  'Arrival/Departure Delay in Minutes']   = 3\n",
    "    data.loc[ (data['Arrival/Departure Delay in Minutes'] > 50.0 ) & (data['Arrival/Departure Delay in Minutes'] <= 80.0 ) ,  'Arrival/Departure Delay in Minutes']   = 4 \n",
    "    data.loc[ (data['Arrival/Departure Delay in Minutes'] > 80.0 ) & (data['Arrival/Departure Delay in Minutes'] <= 120.0 ) , 'Arrival/Departure Delay in Minutes']   = 5 \n",
    "    data.loc[ (data['Arrival/Departure Delay in Minutes'] > 120.0 ) &(data['Arrival/Departure Delay in Minutes'] <= 170.0 ) , 'Arrival/Departure Delay in Minutes']   = 6\n",
    "    data.loc[ (data['Arrival/Departure Delay in Minutes'] > 170.0 ) &(data['Arrival/Departure Delay in Minutes'] <= 200.0 ) , 'Arrival/Departure Delay in Minutes']   = 7\n",
    "    data.loc[ (data['Arrival/Departure Delay in Minutes'] > 200.0 ) , 'Arrival/Departure Delay in Minutes']                                                           = 8\n",
    "   \n",
    "    # classify Flight Distance\n",
    "\n",
    "    data.loc[ (data['Flight Distance'] <= 1000 ) ,  'Flight Distance']                                      = 0\n",
    "    data.loc[ (data['Flight Distance'] > 1000 ) & (data['Flight Distance'] <= 2000 ) ,  'Flight Distance']  = 1\n",
    "    data.loc[ (data['Flight Distance'] > 2000 ) &  (data['Flight Distance'] <= 3000 ) , 'Flight Distance']  = 2\n",
    "    data.loc[ (data['Flight Distance'] > 3000 ) & (data['Flight Distance'] <= 4000 ) , 'Flight Distance']   = 3\n",
    "    data.loc[ (data['Flight Distance'] > 4000 ) , 'Flight Distance']                                        = 4\n",
    "    \n"
   ]
  },
  {
   "cell_type": "markdown",
   "metadata": {},
   "source": [
    "start making the tree \n",
    "0. make essential classes => node & tree\n",
    "1. make \"DecisionTree\" func\n",
    "2. make \"Importance\" func\n",
    "3. make \"GniniIndex\" func\n",
    "4. make \"Entropy\" func "
   ]
  },
  {
   "cell_type": "markdown",
   "metadata": {},
   "source": [
    "1. Node \n",
    "these class represent the \n"
   ]
  },
  {
   "cell_type": "code",
   "execution_count": 36,
   "metadata": {},
   "outputs": [],
   "source": [
    "class Node(object) : \n",
    "    def __init__(self,attribute=None ,classification=None , data=None):\n",
    "        self.Attribute = attribute\n",
    "        self.Classification = classification\n",
    "        self.Data = data \n",
    "        self.Children = {}\n",
    "\n",
    "    def AddChild(self ,child , label ) : \n",
    "        a = self.Attribute\n",
    "        self.Children[label] = child \n",
    "        \n",
    "\n"
   ]
  },
  {
   "cell_type": "markdown",
   "metadata": {},
   "source": [
    "points to attention : \n",
    "work with numpy array !!!!!\n",
    "what was plurality_value ? \n",
    "find a better way to get different labels of an Attribute "
   ]
  },
  {
   "cell_type": "code",
   "execution_count": 57,
   "metadata": {},
   "outputs": [],
   "source": [
    "import math\n",
    "\n",
    "class Decision_Tree(object) : \n",
    "    Root = Node(None , None , None )\n",
    "    def __init__(self , goal=None ,attributes=None,importance_method=None,data=None) :  ##, test_data=None , train_data=None , root=None \n",
    "        self.Goal = goal\n",
    "        self.Importance_Method = importance_method \n",
    "        self.Attributes = attributes\n",
    "        self.Data = data\n",
    "        self.Depth = 0\n",
    "        self.Min_Sample_Data =0\n",
    "        \n",
    "    def Plurality_Value(self,data,m=None) : \n",
    "        unique_values,count = np.unique( data[self.Goal] , return_counts=True )\n",
    "        plurality = 0.00\n",
    "        value = 0\n",
    "        for u,c in zip(unique_values , count ) : \n",
    "            if( c > plurality ) :\n",
    "                plurality = c \n",
    "                value = u \n",
    "        node = Node(None , value , None )\n",
    "        return node \n",
    "    \n",
    "    def Get_Attribute_Lables(self , attribute,data): \n",
    "        unique_values,count = np.unique(data[attribute], return_counts=True)     \n",
    "        return (unique_values,count)\n",
    "\n",
    "    def Get_Classification(self , data, Goal ) : \n",
    "        unique_values = self.Get_Attribute_Lables(Goal , data )[0]\n",
    "        if ( len(unique_values ) >= 2 ) : \n",
    "            return -1 \n",
    "        else : \n",
    "            return unique_values[0]\n",
    "\n",
    "\n",
    "    def Get_Labeled_Data( self , label , data, main_attribute ) : \n",
    "        labeled_data = data[ data[main_attribute] == label ]\n",
    "        return labeled_data\n",
    "\n",
    "    def Get_Entropy(self , data,Goal) : \n",
    "        (unique_values,counts) = self.Get_Attribute_Lables(Goal , data )\n",
    "        B = []\n",
    "        total = np.sum(counts)\n",
    "        for c in counts : \n",
    "            p = (float)(c/total)\n",
    "            log = math.log2(p)\n",
    "            B.append( (float)(p*log) )\n",
    "        return -np.sum(B)\n",
    "\n",
    "\n",
    "    def Importance_Entropy(self, attributes , data ) : \n",
    "        Gains = []\n",
    "        Total = len(data)\n",
    "        entropyA = self.Get_Entropy(data , self.Goal )\n",
    "        for attribute in attributes : \n",
    "            Entropies = [] #np.array(size = len(attributes))\n",
    "            lables = self.Get_Attribute_Lables(attribute , data )[0]\n",
    "            # datas = np.array()\n",
    "            for l in lables : \n",
    "                exs = self.Get_Labeled_Data(l , data , attribute )\n",
    "                # display(exs)\n",
    "                entropy = self.Get_Entropy(exs , self.Goal)\n",
    "                coefficient= (float)(len(exs)/Total)\n",
    "                Entropies.append( (float)(coefficient*entropy) )\n",
    "            reminderA = np.sum(Entropies)       \n",
    "            Gains.append(( (entropyA-reminderA)  , attribute ) )\n",
    "        return max(Gains)[1]  #******************************\n",
    "\n",
    "    def Get_GiniIndex(self, data,Goal) : \n",
    "        (unique_values,counts) = self.Get_Attribute_Lables(Goal , data )\n",
    "        B = []\n",
    "        total = np.sum(counts)\n",
    "        for c in counts : \n",
    "            p = (float)(c/total)\n",
    "            pow = (float)(math.pow(p,2)) \n",
    "            B.append( pow )\n",
    "        return ( 1- (float)(np.sum(B)) )\n",
    "\n",
    "    def Importance_GiniIndex(self, attributes , data ): \n",
    "        # TotalGini = Get_GiniIndex(data)\n",
    "        Total = len(data)\n",
    "        AveragedGini = []\n",
    "        for attribute in attributes : \n",
    "            GiniImpurities = []  #np.array(size = len(attributes))\n",
    "            lables = self.Get_Attribute_Lables(attribute , self.Data )[0]\n",
    "            \n",
    "            for l in lables : \n",
    "                exs = self.Get_Labeled_Data(l , data , attribute )\n",
    "                \n",
    "                Gini = self.Get_GiniIndex(exs , self.Goal)  # 1 - sum ((p2)^2+ (p1)^2+ ...+ (pi)2 ) \n",
    "                coefficient= (float)(len(exs)/Total)\n",
    "                GiniImpurities.append( (float)(coefficient*Gini) )\n",
    "            AveragedGini.append( ( sum(GiniImpurities) , attribute ) ) \n",
    "        return min( AveragedGini )[1]   # return the main attribute \n",
    "\n",
    "\n",
    "    def Make_Root(self , data , attribute) : \n",
    "        root = Node(attribute , None , data )\n",
    "        return root\n",
    "    \n",
    "    def Decision_Tree_Learning(self , child_data ,attributes ,parent_data=None,depth=0) : \n",
    "        if ( len(child_data) == 0 ) : \n",
    "            return self.Plurality_Value(data= parent_data) ## should return a node \n",
    "        n = self.Get_Classification(child_data,self.Goal )\n",
    "        if( n != -1 ) : \n",
    "            leaf = Node(None , n , None )  \n",
    "            return leaf  \n",
    "        elif (len(attributes) == 0 or len(child_data) <= self.Min_Sample_Data or self.Depth ==0 or depth >= math.ceil(math.log2(self.Depth))  ) :   #or len( child_data ) <= self.Min_Sample_Data ) : \n",
    "            return self.Plurality_Value(child_data,self.Goal )\n",
    "        else : \n",
    "            main_attribute = self.Importance_Method(attributes , child_data)\n",
    "            labels = self.Get_Attribute_Lables(main_attribute,self.Data)[0]\n",
    "            Root = self.Make_Root(child_data , main_attribute )  \n",
    "            attributes = np.delete( attributes, np.where(attributes == main_attribute))\n",
    "            for label in labels : \n",
    "                exs = self.Get_Labeled_Data(label , child_data , main_attribute)\n",
    "                depth+=1 \n",
    "                node = self.Decision_Tree_Learning(child_data= exs ,attributes=attributes,parent_data=child_data,depth=depth )   ## how to remove main attribute from attributes         \n",
    "                depth -= 1\n",
    "                Root.AddChild(node , label )\n",
    "        return Root \n",
    "    \n",
    "    def DFS(self , row , data , node ) : \n",
    "        attribute = node.Attribute \n",
    "        if (attribute == None ) : \n",
    "            return node.Classification \n",
    "        else :\n",
    "           \n",
    "            label = data.loc[row][attribute]\n",
    "            if ( label in node.Children) :\n",
    "                next = node.Children[label]\n",
    "                return self.DFS(row , data , next )\n",
    "            else : \n",
    "                return \n",
    "\n",
    "\n",
    "    def Test_Decision_Tree_Model(self , test_data) : \n",
    "        total = len( test_data)\n",
    "        correct_answeres = 0 \n",
    "        for i in range( total ): \n",
    "            answere = self.DFS( row=i ,data = test_data , node=self.Root )\n",
    "            if( answere == test_data[self.Goal][i] ) :\n",
    "                correct_answeres+=1\n",
    "        return (correct_answeres/total)*100\n",
    "    \n",
    "    def Train_Model(self, train_data , attributes ) :\n",
    "        root= self.Decision_Tree_Learning(child_data= train_data ,attributes= attributes )\n",
    "        return root \n",
    "        \n",
    "# class Node(object) : \n",
    "#     def __init__(self,attribute=None ,classification=None , data=None):\n",
    "#         self.Attribute = attribute\n",
    "#         self.Classification = classification\n",
    "#         self.Data = data \n",
    "#         self.Children = {}\n",
    "\n",
    "    def Graphize_Decision_Tree(self , node, indent='', file=None):\n",
    "        if node.Classification is not None:\n",
    "            output = indent + \"Classification: \" + str(node.Classification)\n",
    "            if file:\n",
    "                print(output, file=file)\n",
    "            else:\n",
    "                print(output)\n",
    "        else:\n",
    "            output = indent + \"Attribute: \" + str(node.Attribute)\n",
    "            if file:\n",
    "                print(output, file=file)\n",
    "            else:\n",
    "                print(output)\n",
    "            for value,child_node in node.Children.items():\n",
    "                output = indent + \"Value: \" + str(value)\n",
    "                if file:\n",
    "                    print(output, file=file)\n",
    "                else:\n",
    "                    print(output)\n",
    "                self.Graphize_Decision_Tree(child_node, indent + \"  \", file)\n",
    "\n",
    "\n"
   ]
  },
  {
   "cell_type": "markdown",
   "metadata": {},
   "source": [
    "testing model with entropy"
   ]
  },
  {
   "cell_type": "code",
   "execution_count": 63,
   "metadata": {},
   "outputs": [],
   "source": [
    "import random as rnd \n",
    "goal=\"satisfaction\"\n",
    "train_data = train\n",
    "attributes =  rnd.sample( list( train_data.columns) , len(train_data.columns)) \n",
    "attributes = np.array(attributes)\n",
    "Model = Decision_Tree(goal,attributes , data=train_data)\n",
    "attributes = np.delete( attributes , np.where(attributes == goal ))\n",
    "Model.Importance_Method = Model.Importance_Entropy\n",
    "Model.Min_Sample_Data = 10\n",
    "Model.Depth = 17"
   ]
  },
  {
   "cell_type": "markdown",
   "metadata": {},
   "source": [
    "Train our model with airplane train data "
   ]
  },
  {
   "cell_type": "code",
   "execution_count": 64,
   "metadata": {},
   "outputs": [],
   "source": [
    "root = Model.Train_Model( train_data , attributes )\n",
    "Model.Root = root  \n",
    "\n",
    "with open(\"tree_output2.txt\", \"w\") as file:\n",
    "    Model.Graphize_Decision_Tree(root, file=file)\n"
   ]
  },
  {
   "cell_type": "markdown",
   "metadata": {},
   "source": [
    "now test it with test data "
   ]
  },
  {
   "cell_type": "code",
   "execution_count": 40,
   "metadata": {},
   "outputs": [
    {
     "name": "stdout",
     "output_type": "stream",
     "text": [
      "94.22157035950599\n"
     ]
    }
   ],
   "source": [
    "test_data = train\n",
    "print(Model.Test_Decision_Tree_Model(test_data))"
   ]
  },
  {
   "cell_type": "code",
   "execution_count": 41,
   "metadata": {},
   "outputs": [
    {
     "name": "stdout",
     "output_type": "stream",
     "text": [
      "93.4925\n"
     ]
    }
   ],
   "source": [
    "test_data = test\n",
    "print(Model.Test_Decision_Tree_Model(test_data))\n",
    "\n"
   ]
  },
  {
   "cell_type": "markdown",
   "metadata": {},
   "source": [
    "testing model with ginin index : "
   ]
  },
  {
   "cell_type": "code",
   "execution_count": 54,
   "metadata": {},
   "outputs": [
    {
     "name": "stdout",
     "output_type": "stream",
     "text": [
      "traing accuracy :  94.06323438723979\n",
      "test accuracy :  93.21249999999999\n"
     ]
    }
   ],
   "source": [
    "import random as rnd \n",
    "goal=\"satisfaction\"\n",
    "train_data = train\n",
    "attributes =  rnd.sample( list( train_data.columns) , len(train_data.columns)) \n",
    "attributes = np.array(attributes)\n",
    "Model = Decision_Tree(goal,attributes , data=train_data)\n",
    "attributes = np.delete( attributes , np.where(attributes == goal ))\n",
    "Model.Importance_Method = Model.Importance_GiniIndex\n",
    "Model.Min_Sample_Data = 10\n",
    "Model.Depth = 17\n",
    "\n",
    "root = Model.Train_Model( train_data , attributes )\n",
    "Model.Root = root  \n",
    "\n",
    "test_data = train\n",
    "print(\"traing accuracy : \" , Model.Test_Decision_Tree_Model(test_data))\n",
    "\n",
    "\n",
    "test_data = test\n",
    "print(\"test accuracy : \" , Model.Test_Decision_Tree_Model(test_data))\n",
    "\n"
   ]
  },
  {
   "cell_type": "markdown",
   "metadata": {},
   "source": [
    "Testing Restuarant data"
   ]
  },
  {
   "cell_type": "code",
   "execution_count": 58,
   "metadata": {},
   "outputs": [
    {
     "name": "stdout",
     "output_type": "stream",
     "text": [
      "100.0\n"
     ]
    }
   ],
   "source": [
    "goal=\"will_wait\"\n",
    "train_data = Restuarnt_Data\n",
    "attributes =  rnd.sample( list(train_data.columns) , len(train_data.columns)) \n",
    "attributes = np.array(attributes)\n",
    "Model = Decision_Tree(goal,attributes , data=train_data)\n",
    "Model.Importance_Method = Model.Importance_GiniIndex\n",
    "attributes = np.delete( attributes , np.where(attributes == goal ))\n",
    "test_data = Restuarnt_Data\n",
    "Model.Min_Sample_Data = 1\n",
    "Model.Depth = 12\n",
    "root = Model.Train_Model( train_data , attributes )\n",
    "Model.Root = root  \n",
    "\n",
    "print(Model.Test_Decision_Tree_Model(test_data))\n",
    "\n",
    "with open(\"tree_output.txt\", \"w\") as file:\n",
    "    Model.Graphize_Decision_Tree(root, file=file)\n",
    "\n"
   ]
  },
  {
   "cell_type": "code",
   "execution_count": 44,
   "metadata": {},
   "outputs": [],
   "source": [
    "# testing different depths \n",
    "depths = []\n",
    "train_accuracy = []\n",
    "test_accuracy = []\n",
    "goal=\"satisfaction\"\n",
    "train_data = train\n",
    "attributes =  rnd.sample( list( train_data.columns) , len(train_data.columns)) \n",
    "attributes = np.array(train_data.columns)\n",
    "attributes = np.delete( attributes , np.where(attributes == goal ))\n",
    "\n",
    "for i in range (1 ,24, 2 ) : \n",
    "    Model = Decision_Tree(goal,attributes , data=train_data)\n",
    "    Model.Importance_Method = Model.Importance_Entropy\n",
    "    Model.Min_Sample_Size = 20\n",
    "    Model.Depth = i \n",
    "    root = Model.Train_Model( train_data , attributes )\n",
    "    Model.Root = root  \n",
    "    test_data = test\n",
    "    t1 = Model.Test_Decision_Tree_Model(test_data)\n",
    "    test_data = train\n",
    "    t2 = Model.Test_Decision_Tree_Model(test_data)\n",
    "    train_accuracy.append(t2)\n",
    "    test_accuracy.append(t1)\n",
    "    depths.append(i)\n",
    "    "
   ]
  },
  {
   "cell_type": "code",
   "execution_count": 45,
   "metadata": {},
   "outputs": [],
   "source": [
    "plt.plot(depths ,test_accuracy , color='r', label='Test') \n",
    "plt.plot(depths ,train_accuracy , color='g', label='Train') \n",
    "  \n",
    "# Naming the x-axis, y-axis and the whole graph \n",
    "plt.xlabel(\"Depth\") \n",
    "plt.ylabel(\"Accuracy\") \n",
    "plt.title(\"ratio of tree depth to accuracy\") \n",
    "  \n",
    "# Adding legend, which helps us recognize the curve according to it's color \n",
    "plt.legend() \n",
    "  \n",
    "# To load the display window \n",
    "plt.show() "
   ]
  },
  {
   "cell_type": "code",
   "execution_count": 46,
   "metadata": {},
   "outputs": [],
   "source": [
    "# testing different depths \n",
    "Min_Sample_Size = []\n",
    "train_accuracy = []\n",
    "test_accuracy = []\n",
    "goal=\"satisfaction\"\n",
    "train_data = train\n",
    "attributes =  rnd.sample( list( train_data.columns) , len(train_data.columns)) \n",
    "attributes = np.array(train_data.columns)\n",
    "attributes = np.delete( attributes , np.where(attributes == goal ))\n",
    "\n",
    "for i in range (0 ,300 , 10 ) : \n",
    "    Model = Decision_Tree(goal,attributes , data=train_data)\n",
    "    Model.Importance_Method = Model.Importance_Entropy\n",
    "    Model.Min_Sample_Data = i \n",
    "    Model.Depth = 18\n",
    "    root = Model.Train_Model( train_data , attributes )\n",
    "    Model.Root = root  \n",
    "    test_data = test\n",
    "    t1 = Model.Test_Decision_Tree_Model(test_data)\n",
    "    test_data = train\n",
    "    t2 = Model.Test_Decision_Tree_Model(test_data)\n",
    "    train_accuracy.append(t2)\n",
    "    test_accuracy.append(t1)\n",
    "    Min_Sample_Size.append(i)\n"
   ]
  },
  {
   "cell_type": "code",
   "execution_count": 47,
   "metadata": {},
   "outputs": [],
   "source": [
    "plt.plot(Min_Sample_Size ,test_accuracy , color='r', label='Test') \n",
    "plt.plot(Min_Sample_Size ,train_accuracy , color='g', label='Train') \n",
    "  \n",
    "# Naming the x-axis, y-axis and the whole graph \n",
    "plt.xlabel(\"Min Sample Size\") \n",
    "plt.ylabel(\"Accuracy\") \n",
    "plt.title(\"ratio of tree Min Sample Size to accuracy\") \n",
    "  \n",
    "# Adding legend, which helps us recognize the curve according to it's color \n",
    "plt.legend() \n",
    "  \n",
    "# To load the display window \n",
    "plt.show() "
   ]
  },
  {
   "cell_type": "markdown",
   "metadata": {},
   "source": [
    "Test Resturant example "
   ]
  }
 ],
 "metadata": {
  "kernelspec": {
   "display_name": "env",
   "language": "python",
   "name": "python3"
  },
  "language_info": {
   "codemirror_mode": {
    "name": "ipython",
    "version": 3
   },
   "file_extension": ".py",
   "mimetype": "text/x-python",
   "name": "python",
   "nbconvert_exporter": "python",
   "pygments_lexer": "ipython3",
   "version": "3.10.0"
  }
 },
 "nbformat": 4,
 "nbformat_minor": 2
}
