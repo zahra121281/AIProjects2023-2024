{
 "cells": [
  {
   "cell_type": "code",
   "execution_count": 168,
   "metadata": {},
   "outputs": [],
   "source": [
    "import numpy as np\n",
    "import pandas as pa\n",
    "import re as re\n",
    "## make test and train files ; \n",
    "n = 2000\n",
    "nfirstlines = []\n",
    "\n",
    "# with open(\"Airplane.csv\") as f, open(\"Airplane_Test.csv\", \"w\") as test , open(\"Airplane_Train.csv\", \"w\") as train:\n",
    "#     for x in range(n):\n",
    "#         test.write(next(f))\n",
    "#     for x in range(2001 , 8000 ) :\n",
    "#         train.write(next(f)) \n",
    "    \n",
    "\n"
   ]
  },
  {
   "cell_type": "code",
   "execution_count": 169,
   "metadata": {},
   "outputs": [],
   "source": [
    "test = pa.read_csv(\"Airplane_Test.csv\", index_col=[0] )\n",
    "train = pa.read_csv(\"Airplane_Train.csv\", index_col=[0])\n",
    "model_info = [train , test ]\n",
    "Restuarnt_Data = pa.read_csv(\"Resturant.csv\")\n",
    "for data in model_info : \n",
    "    #map goal column to 1 or 0 \n",
    "    data['satisfaction'] = data['satisfaction'].map({'neutral or dissatisfied' : 0 ,'satisfied' :1} )\n",
    "\n",
    "#print(modle_info[0].info) "
   ]
  },
  {
   "cell_type": "code",
   "execution_count": 201,
   "metadata": {},
   "outputs": [
    {
     "data": {
      "text/html": [
       "<div>\n",
       "<style scoped>\n",
       "    .dataframe tbody tr th:only-of-type {\n",
       "        vertical-align: middle;\n",
       "    }\n",
       "\n",
       "    .dataframe tbody tr th {\n",
       "        vertical-align: top;\n",
       "    }\n",
       "\n",
       "    .dataframe thead th {\n",
       "        text-align: right;\n",
       "    }\n",
       "</style>\n",
       "<table border=\"1\" class=\"dataframe\">\n",
       "  <thead>\n",
       "    <tr style=\"text-align: right;\">\n",
       "      <th></th>\n",
       "      <th>Gender</th>\n",
       "      <th>Customer Type</th>\n",
       "      <th>Age</th>\n",
       "      <th>Type of Travel</th>\n",
       "      <th>Class</th>\n",
       "      <th>Flight Distance</th>\n",
       "      <th>Inflight wifi service</th>\n",
       "      <th>Departure/Arrival time convenient</th>\n",
       "      <th>Ease of Online booking</th>\n",
       "      <th>Gate location</th>\n",
       "      <th>...</th>\n",
       "      <th>Inflight entertainment</th>\n",
       "      <th>On-board service</th>\n",
       "      <th>Leg room service</th>\n",
       "      <th>Baggage handling</th>\n",
       "      <th>Checkin service</th>\n",
       "      <th>Inflight service</th>\n",
       "      <th>Cleanliness</th>\n",
       "      <th>Departure Delay in Minutes</th>\n",
       "      <th>Arrival Delay in Minutes</th>\n",
       "      <th>satisfaction</th>\n",
       "    </tr>\n",
       "  </thead>\n",
       "  <tbody>\n",
       "  </tbody>\n",
       "</table>\n",
       "<p>0 rows × 23 columns</p>\n",
       "</div>"
      ],
      "text/plain": [
       "Empty DataFrame\n",
       "Columns: [Gender, Customer Type, Age, Type of Travel, Class, Flight Distance, Inflight wifi service, Departure/Arrival time convenient, Ease of Online booking, Gate location, Food and drink, Online boarding, Seat comfort, Inflight entertainment, On-board service, Leg room service, Baggage handling, Checkin service, Inflight service, Cleanliness, Departure Delay in Minutes, Arrival Delay in Minutes, satisfaction]\n",
       "Index: []\n",
       "\n",
       "[0 rows x 23 columns]"
      ]
     },
     "execution_count": 201,
     "metadata": {},
     "output_type": "execute_result"
    }
   ],
   "source": [
    "df = train\n",
    "df[df.isna().any(axis=1)]  \n",
    "# df[\"Arrival Delay in Minutes\"].isna()\n"
   ]
  },
  {
   "cell_type": "markdown",
   "metadata": {},
   "source": [
    "Find most and least impactable features for the Goal column ; \n",
    "\n",
    "1. Gender"
   ]
  },
  {
   "cell_type": "code",
   "execution_count": 171,
   "metadata": {},
   "outputs": [
    {
     "name": "stdout",
     "output_type": "stream",
     "text": [
      "   Gender  satisfaction\n",
      "0  Female      0.425581\n",
      "1    Male      0.435418\n"
     ]
    }
   ],
   "source": [
    "print(train[['Gender' , 'satisfaction']].groupby(['Gender'] , as_index=False ).mean() )"
   ]
  },
  {
   "cell_type": "markdown",
   "metadata": {},
   "source": [
    "2. Type of Travel"
   ]
  },
  {
   "cell_type": "code",
   "execution_count": 172,
   "metadata": {},
   "outputs": [
    {
     "name": "stdout",
     "output_type": "stream",
     "text": [
      "    Type of Travel  satisfaction\n",
      "0  Business travel      0.575198\n",
      "1  Personal Travel      0.100546\n"
     ]
    }
   ],
   "source": [
    "print(train[['satisfaction' , 'Type of Travel' ]].groupby(['Type of Travel'] , as_index=False ).mean() )"
   ]
  },
  {
   "cell_type": "markdown",
   "metadata": {},
   "source": [
    "3. Age"
   ]
  },
  {
   "cell_type": "code",
   "execution_count": 173,
   "metadata": {},
   "outputs": [
    {
     "name": "stdout",
     "output_type": "stream",
     "text": [
      "    Age  satisfaction\n",
      "0     7      0.093750\n",
      "1     8      0.029412\n",
      "2     9      0.204545\n",
      "3    10      0.129032\n",
      "4    11      0.121951\n",
      "..  ...           ...\n",
      "69   76      0.000000\n",
      "70   77      0.200000\n",
      "71   79      0.500000\n",
      "72   80      0.000000\n",
      "73   85      0.000000\n",
      "\n",
      "[74 rows x 2 columns]\n"
     ]
    }
   ],
   "source": [
    "# shoud make subset of ages; \n",
    "print(train[['Age' , 'satisfaction']].groupby(['Age'] , as_index=False ).mean() )"
   ]
  },
  {
   "cell_type": "markdown",
   "metadata": {},
   "source": [
    "4. Class"
   ]
  },
  {
   "cell_type": "code",
   "execution_count": 174,
   "metadata": {},
   "outputs": [
    {
     "name": "stdout",
     "output_type": "stream",
     "text": [
      "      Class  satisfaction\n",
      "0  Business      0.684903\n",
      "1       Eco      0.190619\n",
      "2  Eco Plus      0.215247\n"
     ]
    }
   ],
   "source": [
    "print(train[['Class' , 'satisfaction']].groupby(['Class'] , as_index=False ).mean() )"
   ]
  },
  {
   "cell_type": "markdown",
   "metadata": {},
   "source": [
    "5. Customer Type "
   ]
  },
  {
   "cell_type": "code",
   "execution_count": 175,
   "metadata": {},
   "outputs": [
    {
     "name": "stdout",
     "output_type": "stream",
     "text": [
      "       Customer Type  satisfaction\n",
      "0     Loyal Customer      0.474070\n",
      "1  disloyal Customer      0.231978\n"
     ]
    }
   ],
   "source": [
    "print(train[['Customer Type' , 'satisfaction']].groupby(['Customer Type'] , as_index=False ).mean() )"
   ]
  },
  {
   "cell_type": "markdown",
   "metadata": {},
   "source": [
    "6. Flight Distance"
   ]
  },
  {
   "cell_type": "code",
   "execution_count": 176,
   "metadata": {},
   "outputs": [
    {
     "name": "stdout",
     "output_type": "stream",
     "text": [
      "      Flight Distance  satisfaction\n",
      "0                  67      0.571429\n",
      "1                  73      0.333333\n",
      "2                  74      0.000000\n",
      "3                  77      0.000000\n",
      "4                  78      0.000000\n",
      "...               ...           ...\n",
      "1941             3996      0.000000\n",
      "1942             4000      1.000000\n",
      "1943             4243      0.000000\n",
      "1944             4963      0.000000\n",
      "1945             4983      1.000000\n",
      "\n",
      "[1946 rows x 2 columns]\n"
     ]
    }
   ],
   "source": [
    "# should have sub range \n",
    "print(train[['Flight Distance' , 'satisfaction']].groupby(['Flight Distance'] , as_index=False ).mean() )"
   ]
  },
  {
   "cell_type": "markdown",
   "metadata": {},
   "source": [
    "7. Inflight wifi service"
   ]
  },
  {
   "cell_type": "code",
   "execution_count": 177,
   "metadata": {},
   "outputs": [
    {
     "name": "stdout",
     "output_type": "stream",
     "text": [
      "   Inflight wifi service  satisfaction\n",
      "0                      0      1.000000\n",
      "1                      1      0.343720\n",
      "2                      2      0.238441\n",
      "3                      3      0.250343\n",
      "4                      4      0.572300\n",
      "5                      5      0.991124\n"
     ]
    }
   ],
   "source": [
    "print(train[['Inflight wifi service' , 'satisfaction']].groupby(['Inflight wifi service'] , as_index=False ).mean() )"
   ]
  },
  {
   "cell_type": "markdown",
   "metadata": {},
   "source": [
    "8. Departure/Arrival time convenient"
   ]
  },
  {
   "cell_type": "code",
   "execution_count": 178,
   "metadata": {},
   "outputs": [
    {
     "name": "stdout",
     "output_type": "stream",
     "text": [
      "   Departure/Arrival time convenient  satisfaction\n",
      "0                                  0      0.464174\n",
      "1                                  1      0.501082\n",
      "2                                  2      0.449187\n",
      "3                                  3      0.427247\n",
      "4                                  4      0.365319\n",
      "5                                  5      0.433442\n"
     ]
    }
   ],
   "source": [
    "print(train[['Departure/Arrival time convenient' , 'satisfaction']].groupby(['Departure/Arrival time convenient'] , as_index=False ).mean() )"
   ]
  },
  {
   "cell_type": "markdown",
   "metadata": {},
   "source": [
    "9. Ease of Online booking"
   ]
  },
  {
   "cell_type": "code",
   "execution_count": 179,
   "metadata": {},
   "outputs": [
    {
     "name": "stdout",
     "output_type": "stream",
     "text": [
      "   Ease of Online booking  satisfaction\n",
      "0                       0      0.618519\n",
      "1                       1      0.411535\n",
      "2                       2      0.282544\n",
      "3                       3      0.321530\n",
      "4                       4      0.496497\n",
      "5                       5      0.738750\n"
     ]
    }
   ],
   "source": [
    "print(train[['Ease of Online booking' , 'satisfaction']].groupby(['Ease of Online booking'] , as_index=False ).mean() )"
   ]
  },
  {
   "cell_type": "markdown",
   "metadata": {},
   "source": [
    "10. Gate location"
   ]
  },
  {
   "cell_type": "code",
   "execution_count": 180,
   "metadata": {},
   "outputs": [
    {
     "name": "stdout",
     "output_type": "stream",
     "text": [
      "   Gate location  satisfaction\n",
      "0              1      0.500962\n",
      "1              2      0.451383\n",
      "2              3      0.350625\n",
      "3              4      0.368603\n",
      "4              5      0.582071\n"
     ]
    }
   ],
   "source": [
    "print(train[['Gate location' , 'satisfaction']].groupby(['Gate location'] , as_index=False ).mean() )"
   ]
  },
  {
   "cell_type": "markdown",
   "metadata": {},
   "source": [
    "11. Food and drink"
   ]
  },
  {
   "cell_type": "code",
   "execution_count": 181,
   "metadata": {},
   "outputs": [
    {
     "name": "stdout",
     "output_type": "stream",
     "text": [
      "   Food and drink  satisfaction\n",
      "0               0      0.500000\n",
      "1               1      0.190289\n",
      "2               2      0.355754\n",
      "3               3      0.404574\n",
      "4               4      0.512874\n",
      "5               5      0.576625\n"
     ]
    }
   ],
   "source": [
    "print(train[['Food and drink' , 'satisfaction']].groupby(['Food and drink'] , as_index=False ).mean() )"
   ]
  },
  {
   "cell_type": "markdown",
   "metadata": {},
   "source": [
    "12. Online boarding"
   ]
  },
  {
   "cell_type": "code",
   "execution_count": 182,
   "metadata": {},
   "outputs": [
    {
     "name": "stdout",
     "output_type": "stream",
     "text": [
      "   Online boarding  satisfaction\n",
      "0                0      0.513158\n",
      "1                1      0.136752\n",
      "2                2      0.118611\n",
      "3                3      0.139905\n",
      "4                4      0.606735\n",
      "5                5      0.874074\n"
     ]
    }
   ],
   "source": [
    "print(train[['Online boarding' , 'satisfaction']].groupby(['Online boarding'] , as_index=False ).mean() )"
   ]
  },
  {
   "cell_type": "markdown",
   "metadata": {},
   "source": [
    "13. Seat comfort"
   ]
  },
  {
   "cell_type": "code",
   "execution_count": 183,
   "metadata": {},
   "outputs": [
    {
     "name": "stdout",
     "output_type": "stream",
     "text": [
      "   Seat comfort  satisfaction\n",
      "0             0      0.000000\n",
      "1             1      0.220867\n",
      "2             2      0.217647\n",
      "3             3      0.230906\n",
      "4             4      0.542261\n",
      "5             5      0.674419\n"
     ]
    }
   ],
   "source": [
    "print(train[['Seat comfort' , 'satisfaction']].groupby(['Seat comfort'] , as_index=False ).mean() )"
   ]
  },
  {
   "cell_type": "markdown",
   "metadata": {},
   "source": [
    "14. Inflight entertainment"
   ]
  },
  {
   "cell_type": "code",
   "execution_count": 184,
   "metadata": {},
   "outputs": [
    {
     "name": "stdout",
     "output_type": "stream",
     "text": [
      "   Inflight entertainment  satisfaction\n",
      "0                       1      0.120433\n",
      "1                       2      0.203828\n",
      "2                       3      0.290559\n",
      "3                       4      0.601987\n",
      "4                       5      0.660297\n"
     ]
    }
   ],
   "source": [
    "print(train[['Inflight entertainment' , 'satisfaction']].groupby(['Inflight entertainment'] , as_index=False ).mean() )"
   ]
  },
  {
   "cell_type": "markdown",
   "metadata": {},
   "source": [
    "15. On-board service"
   ]
  },
  {
   "cell_type": "code",
   "execution_count": 185,
   "metadata": {},
   "outputs": [
    {
     "name": "stdout",
     "output_type": "stream",
     "text": [
      "   On-board service  satisfaction\n",
      "0                 1      0.178371\n",
      "1                 2      0.257471\n",
      "2                 3      0.337713\n",
      "3                 4      0.529642\n",
      "4                 5      0.634457\n"
     ]
    }
   ],
   "source": [
    "print(train[['On-board service' , 'satisfaction']].groupby(['On-board service'] , as_index=False ).mean() )"
   ]
  },
  {
   "cell_type": "markdown",
   "metadata": {},
   "source": [
    "16. Leg room service"
   ]
  },
  {
   "cell_type": "code",
   "execution_count": 186,
   "metadata": {},
   "outputs": [
    {
     "name": "stdout",
     "output_type": "stream",
     "text": [
      "   Leg room service  satisfaction\n",
      "0                 0      0.354839\n",
      "1                 1      0.166963\n",
      "2                 2      0.258698\n",
      "3                 3      0.280760\n",
      "4                 4      0.587805\n",
      "5                 5      0.616190\n"
     ]
    }
   ],
   "source": [
    "print(train[['Leg room service' , 'satisfaction']].groupby(['Leg room service'] , as_index=False ).mean() )"
   ]
  },
  {
   "cell_type": "markdown",
   "metadata": {},
   "source": [
    "17. Baggage handling"
   ]
  },
  {
   "cell_type": "code",
   "execution_count": 187,
   "metadata": {},
   "outputs": [
    {
     "name": "stdout",
     "output_type": "stream",
     "text": [
      "   Baggage handling  satisfaction\n",
      "0                 1      0.307876\n",
      "1                 2      0.269504\n",
      "2                 3      0.224437\n",
      "3                 4      0.477017\n",
      "4                 5      0.621145\n"
     ]
    }
   ],
   "source": [
    "print(train[['Baggage handling' , 'satisfaction']].groupby(['Baggage handling'] , as_index=False ).mean() )"
   ]
  },
  {
   "cell_type": "markdown",
   "metadata": {},
   "source": [
    "18. Checkin service"
   ]
  },
  {
   "cell_type": "code",
   "execution_count": 188,
   "metadata": {},
   "outputs": [
    {
     "name": "stdout",
     "output_type": "stream",
     "text": [
      "   Checkin service  satisfaction\n",
      "0                0      0.000000\n",
      "1                1      0.250321\n",
      "2                2      0.266754\n",
      "3                3      0.450825\n",
      "4                4      0.450031\n",
      "5                5      0.598319\n"
     ]
    }
   ],
   "source": [
    "print(train[['Checkin service' , 'satisfaction']].groupby(['Checkin service'] , as_index=False ).mean() )"
   ]
  },
  {
   "cell_type": "markdown",
   "metadata": {},
   "source": [
    "19. Inflight service"
   ]
  },
  {
   "cell_type": "code",
   "execution_count": 189,
   "metadata": {},
   "outputs": [
    {
     "name": "stdout",
     "output_type": "stream",
     "text": [
      "   Inflight service  satisfaction\n",
      "0                 1      0.284635\n",
      "1                 2      0.300570\n",
      "2                 3      0.246275\n",
      "3                 4      0.465253\n",
      "4                 5      0.613091\n"
     ]
    }
   ],
   "source": [
    "print(train[['Inflight service' , 'satisfaction']].groupby(['Inflight service'] , as_index=False ).mean() )"
   ]
  },
  {
   "cell_type": "markdown",
   "metadata": {},
   "source": [
    "20. Cleanliness"
   ]
  },
  {
   "cell_type": "code",
   "execution_count": 190,
   "metadata": {},
   "outputs": [
    {
     "name": "stdout",
     "output_type": "stream",
     "text": [
      "   Cleanliness  satisfaction\n",
      "0            0      0.000000\n",
      "1            1      0.187970\n",
      "2            2      0.211996\n",
      "3            3      0.439680\n",
      "4            4      0.526015\n",
      "5            5      0.619048\n"
     ]
    }
   ],
   "source": [
    "print(train[['Cleanliness' , 'satisfaction']].groupby(['Cleanliness'] , as_index=False ).mean() )"
   ]
  },
  {
   "cell_type": "markdown",
   "metadata": {},
   "source": [
    "21. Departure Delay in Minutes"
   ]
  },
  {
   "cell_type": "code",
   "execution_count": 191,
   "metadata": {},
   "outputs": [
    {
     "name": "stdout",
     "output_type": "stream",
     "text": [
      "     Departure Delay in Minutes  satisfaction\n",
      "0                             0      0.452495\n",
      "1                             1      0.363636\n",
      "2                             2      0.437037\n",
      "3                             3      0.446602\n",
      "4                             4      0.418182\n",
      "..                          ...           ...\n",
      "208                         438      1.000000\n",
      "209                         447      0.000000\n",
      "210                         472      0.000000\n",
      "211                         480      1.000000\n",
      "212                        1305      1.000000\n",
      "\n",
      "[213 rows x 2 columns]\n"
     ]
    }
   ],
   "source": [
    "print(train[['Departure Delay in Minutes' , 'satisfaction']].groupby(['Departure Delay in Minutes'] , as_index=False ).mean() )"
   ]
  },
  {
   "cell_type": "markdown",
   "metadata": {},
   "source": [
    "22. Arrival Delay in Minutes"
   ]
  },
  {
   "cell_type": "code",
   "execution_count": 192,
   "metadata": {},
   "outputs": [
    {
     "name": "stdout",
     "output_type": "stream",
     "text": [
      "     Arrival Delay in Minutes  satisfaction\n",
      "0                         0.0      0.462913\n",
      "1                         1.0      0.512605\n",
      "2                         2.0      0.424000\n",
      "3                         3.0      0.457944\n",
      "4                         4.0      0.444444\n",
      "..                        ...           ...\n",
      "213                     438.0      1.000000\n",
      "214                     446.0      0.000000\n",
      "215                     470.0      1.000000\n",
      "216                     471.0      1.000000\n",
      "217                    1280.0      1.000000\n",
      "\n",
      "[218 rows x 2 columns]\n"
     ]
    }
   ],
   "source": [
    "print(train[['Arrival Delay in Minutes' , 'satisfaction']].groupby(['Arrival Delay in Minutes'] , as_index=False ).mean() )\n"
   ]
  },
  {
   "cell_type": "markdown",
   "metadata": {},
   "source": [
    "make numaric , non numaric columns"
   ]
  },
  {
   "cell_type": "code",
   "execution_count": 193,
   "metadata": {},
   "outputs": [
    {
     "name": "stdout",
     "output_type": "stream",
     "text": [
      "max and min in Departure Delay in Minutes\n",
      "1305\n",
      "0\n"
     ]
    }
   ],
   "source": [
    "# print(\"max and min in age\")\n",
    "# print( train['Age'].max())\n",
    "# print( train['Age'].min())\n",
    "\n",
    "print(\"max and min in Departure Delay in Minutes\")\n",
    "print( train['Departure Delay in Minutes'].max())\n",
    "print( train['Departure Delay in Minutes'].min())\n"
   ]
  },
  {
   "cell_type": "code",
   "execution_count": 194,
   "metadata": {},
   "outputs": [],
   "source": [
    "for data in model_info : \n",
    "    # #map goal column to 1 or 0 \n",
    "    # data['satisfaction'] = data['satisfaction'].map({'neutral or dissatisfied' : 0 ,'satisfied' :1} )\n",
    "\n",
    "    # classify customer type\n",
    "    data['Customer Type'] = data['Customer Type'].map({'Loyal Customer' : 1 ,'disloyal Customer' :0 } )\n",
    "\n",
    "    # classify type of travel \n",
    "    data['Type of Travel'] = data['Type of Travel'].map({'Business travel' : 0 ,'Personal Travel' :1 } )\n",
    "    # classify Class \n",
    "    data['Class'] = data['Class'].map({'Business' : 0 ,'Eco' :1 ,'Eco Plus' :2 } )\n",
    "\n",
    "    #classify Gender \n",
    "    data['Gender'] = data['Gender'].map({'Male' : 0 ,'Female' :1 } )\n",
    "\n",
    "    # classify age \n",
    "    data.loc[data['Age'] <= 16  , 'Age']                          = 0 \n",
    "    data.loc[ (data['Age'] > 16 ) & (data['Age'] <= 32 ) , 'Age'] = 1 \n",
    "    data.loc[ (data['Age'] > 32 ) & (data['Age'] <= 48 ) , 'Age'] = 2 \n",
    "    data.loc[ (data['Age'] > 48 ) & (data['Age'] <= 64 ) , 'Age'] = 3\n",
    "    data.loc[ (data['Age'] > 64 ) & (data['Age'] <= 80 ) , 'Age'] = 4\n",
    "    data.loc[ (data['Age'] > 80 ) , 'Age']                        = 5\n",
    "\n",
    "    # classify Arrival Delay in Minutes\n",
    "    data.loc[  data['Arrival Delay in Minutes'] <= 60.0  , 'Arrival Delay in Minutes']                                                 = 0 \n",
    "    data.loc[ (data['Arrival Delay in Minutes'] > 60.0 ) & (data['Arrival Delay in Minutes'] <= 120.0 ) ,  'Arrival Delay in Minutes']   = 1 \n",
    "    data.loc[ (data['Arrival Delay in Minutes'] > 120.0 ) & (data['Arrival Delay in Minutes'] <= 180.0 ) , 'Arrival Delay in Minutes']   = 2 \n",
    "    data.loc[ (data['Arrival Delay in Minutes'] > 180.0 ) & (data['Arrival Delay in Minutes'] <= 240.0 ) , 'Arrival Delay in Minutes']   = 3\n",
    "    data.loc[ (data['Arrival Delay in Minutes'] > 240.0 ) & (data['Arrival Delay in Minutes'] <= 300.0 ) , 'Arrival Delay in Minutes']   = 4\n",
    "    data.loc[ (data['Arrival Delay in Minutes'] > 360.0 ) & (data['Arrival Delay in Minutes'] <= 420.0 ) , 'Arrival Delay in Minutes']   = 5\n",
    "    data.loc[ (data['Arrival Delay in Minutes'] > 420.0 ) & (data['Arrival Delay in Minutes'] <= 480.0 ) , 'Arrival Delay in Minutes']   = 6\n",
    "    data.loc[ (data['Arrival Delay in Minutes'] > 480.0 ) & (data['Arrival Delay in Minutes'] <= 540.0 ) , 'Arrival Delay in Minutes']   = 7\n",
    "    data.loc[ (data['Arrival Delay in Minutes'] > 540.0 ) & (data['Arrival Delay in Minutes'] <= 600.0 ) , 'Arrival Delay in Minutes']   = 8\n",
    "    data.loc[ (data['Arrival Delay in Minutes'] > 600.0 ) & (data['Arrival Delay in Minutes'] <= 660.0 ) , 'Arrival Delay in Minutes']   = 9\n",
    "    data.loc[ (data['Arrival Delay in Minutes'] > 660.0 ) & (data['Arrival Delay in Minutes'] <= 720.0 ) , 'Arrival Delay in Minutes']   = 10\n",
    "    data.loc[ (data['Arrival Delay in Minutes'] > 720.0 ) & (data['Arrival Delay in Minutes'] <= 780.0 ) , 'Arrival Delay in Minutes']   = 11\n",
    "    data.loc[ (data['Arrival Delay in Minutes'] > 780.0 ) & (data['Arrival Delay in Minutes'] <= 840.0 ) , 'Arrival Delay in Minutes']   = 12\n",
    "    data.loc[ (data['Arrival Delay in Minutes'] > 840.0 ) & (data['Arrival Delay in Minutes'] <= 900.0 ) , 'Arrival Delay in Minutes']   = 13\n",
    "    data.loc[ (data['Arrival Delay in Minutes'] > 900.0 ) & (data['Arrival Delay in Minutes'] <= 960.0 ) , 'Arrival Delay in Minutes']   = 14\n",
    "    data.loc[ (data['Arrival Delay in Minutes'] > 960.0 ) & (data['Arrival Delay in Minutes'] <= 1020.0 ) , 'Arrival Delay in Minutes']  = 20\n",
    "    data.loc[ (data['Arrival Delay in Minutes'] > 1020.0 ) & (data['Arrival Delay in Minutes'] <= 1080.0 ) , 'Arrival Delay in Minutes'] = 21\n",
    "    data.loc[ (data['Arrival Delay in Minutes'] > 1080.0 ) & (data['Arrival Delay in Minutes'] <= 1140.0 ) , 'Arrival Delay in Minutes'] = 22\n",
    "    data.loc[ (data['Arrival Delay in Minutes'] > 1140.0 ) & (data['Arrival Delay in Minutes'] <= 1200.0 ) , 'Arrival Delay in Minutes'] = 23\n",
    "    data.loc[ (data['Arrival Delay in Minutes'] > 1200.0 ) , 'Arrival Delay in Minutes']                                               = 24\n",
    "    data['Arrival Delay in Minutes'] = data['Arrival Delay in Minutes'].fillna(0)\n",
    "    # classify Departure Delay in Minutes\n",
    "    data.loc[  data['Departure Delay in Minutes'] <= 60  , 'Departure Delay in Minutes']                                                       = 0 \n",
    "    data.loc[ (data['Departure Delay in Minutes'] > 60 ) &   (data['Departure Delay in Minutes'] <= 120 ) ,  'Departure Delay in Minutes']   = 1 \n",
    "    data.loc[ (data['Departure Delay in Minutes'] > 120 ) &  (data['Departure Delay in Minutes'] <= 180 ) ,  'Departure Delay in Minutes']   = 2 \n",
    "    data.loc[ (data['Departure Delay in Minutes'] > 180 ) &  (data['Departure Delay in Minutes'] <= 240 ) ,  'Departure Delay in Minutes']   = 3\n",
    "    data.loc[ (data['Departure Delay in Minutes'] > 240 ) &  (data['Departure Delay in Minutes'] <= 300 ) ,  'Departure Delay in Minutes']   = 4\n",
    "    data.loc[ (data['Departure Delay in Minutes'] > 360 ) &  (data['Departure Delay in Minutes'] <= 420 ) ,  'Departure Delay in Minutes']   = 5\n",
    "    data.loc[ (data['Departure Delay in Minutes'] > 420 ) &  (data['Departure Delay in Minutes'] <= 480 ) ,  'Departure Delay in Minutes']   = 6\n",
    "    data.loc[ (data['Departure Delay in Minutes'] > 480 ) &  (data['Departure Delay in Minutes'] <= 540 ) ,  'Departure Delay in Minutes']   = 7\n",
    "    data.loc[ (data['Departure Delay in Minutes'] > 540 ) &  (data['Departure Delay in Minutes'] <= 600 ) ,  'Departure Delay in Minutes']   = 8\n",
    "    data.loc[ (data['Departure Delay in Minutes'] > 600 ) &  (data['Departure Delay in Minutes'] <= 660 ) ,  'Departure Delay in Minutes']   = 9\n",
    "    data.loc[ (data['Departure Delay in Minutes'] > 660 ) &  (data['Departure Delay in Minutes'] <= 720 ) ,  'Departure Delay in Minutes']   = 10\n",
    "    data.loc[ (data['Departure Delay in Minutes'] > 720 ) &  (data['Departure Delay in Minutes'] <= 780 ) ,  'Departure Delay in Minutes']   = 11\n",
    "    data.loc[ (data['Departure Delay in Minutes'] > 780 ) &  (data['Departure Delay in Minutes'] <= 840 ) ,  'Departure Delay in Minutes']   = 12\n",
    "    data.loc[ (data['Departure Delay in Minutes'] > 840 ) &  (data['Departure Delay in Minutes'] <= 900 ) ,  'Departure Delay in Minutes']   = 13\n",
    "    data.loc[ (data['Departure Delay in Minutes'] > 900 ) &  (data['Departure Delay in Minutes'] <= 960 ) ,  'Departure Delay in Minutes']   = 14\n",
    "    data.loc[ (data['Departure Delay in Minutes'] > 960 ) &  (data['Departure Delay in Minutes'] <= 1020 ) , 'Departure Delay in Minutes']   = 20\n",
    "    data.loc[ (data['Departure Delay in Minutes'] > 1020 ) & (data['Departure Delay in Minutes'] <= 1080 ) , 'Departure Delay in Minutes']   = 21\n",
    "    data.loc[ (data['Departure Delay in Minutes'] > 1080 ) & (data['Departure Delay in Minutes'] <= 1140 ) , 'Departure Delay in Minutes']   = 22\n",
    "    data.loc[ (data['Departure Delay in Minutes'] > 1140 ) & (data['Departure Delay in Minutes'] <= 1200 ) , 'Departure Delay in Minutes']   = 23\n",
    "    data.loc[ (data['Departure Delay in Minutes'] > 1200 ) & (data['Departure Delay in Minutes'] <= 1260 ), 'Departure Delay in Minutes']    = 24\n",
    "    data.loc[ (data['Departure Delay in Minutes'] > 1260 ) , 'Departure Delay in Minutes']                                                   = 25\n",
    "\n",
    "    # classify Flight Distance\n",
    "\n",
    "    data.loc[ (data['Flight Distance'] <= 1000 ) ,  'Flight Distance']                                      = 0\n",
    "    data.loc[ (data['Flight Distance'] > 1000 ) & (data['Flight Distance'] <= 2000 ) ,  'Flight Distance']  = 1\n",
    "    data.loc[ (data['Flight Distance'] > 2000 ) &  (data['Flight Distance'] <= 3000 ) , 'Flight Distance']  = 2\n",
    "    data.loc[ (data['Flight Distance'] > 3000 ) & (data['Flight Distance'] <= 4000 ) , 'Flight Distance']   = 3\n",
    "    data.loc[ (data['Flight Distance'] > 4000 ) , 'Flight Distance']                                        = 4\n",
    "    \n",
    "train = train.drop( \"id\", axis='columns' )\n",
    "test.drop( \"id\", axis='columns',inplace=True )\n",
    "    \n",
    "\n"
   ]
  },
  {
   "cell_type": "code",
   "execution_count": 195,
   "metadata": {},
   "outputs": [],
   "source": [
    "column = 'Online boarding'\n",
    "unique_values, counts = np.unique( train[column], return_counts=True)\n",
    "# Print the results\n",
    "\n",
    "\n"
   ]
  },
  {
   "cell_type": "markdown",
   "metadata": {},
   "source": [
    "start making the tree \n",
    "0. make essential classes => node & tree\n",
    "1. make \"DecisionTree\" func\n",
    "2. make \"Importance\" func\n",
    "3. make \"GniniIndex\" func\n",
    "4. make \"Entropy\" func \n",
    "\n",
    "Lets Started :) "
   ]
  },
  {
   "cell_type": "code",
   "execution_count": 196,
   "metadata": {},
   "outputs": [],
   "source": [
    "class Node(object) : \n",
    "    def __init__(self,attribute=None ,classification=None , data=None):\n",
    "        self.Attribute = attribute\n",
    "        self.Classification = classification\n",
    "        self.Data = data \n",
    "        self.Children = {}\n",
    "\n",
    "    def AddChild(self ,child , label ) : \n",
    "        a = self.Attribute\n",
    "        self.Children[label] = child \n",
    "        \n",
    "\n"
   ]
  },
  {
   "cell_type": "markdown",
   "metadata": {},
   "source": [
    "points to attention : \n",
    "work with numpy array !!!!!\n",
    "what was plurality_value ? \n",
    "find a better way to get different labels of an Attribute "
   ]
  },
  {
   "cell_type": "code",
   "execution_count": 267,
   "metadata": {},
   "outputs": [],
   "source": [
    "import math\n",
    "\n",
    "class Decision_Tree(object) : \n",
    "    Root = Node(None , None , None )\n",
    "    def __init__(self , goal=None ,attributes=None,importance_method=None,data=None) :  ##, test_data=None , train_data=None , root=None \n",
    "        self.Goal = goal\n",
    "        self.Importance_Method = importance_method \n",
    "        self.Attributes = attributes\n",
    "        self.Data = data\n",
    "\n",
    "    def Plurality_Value(self,data,m=None) : \n",
    "        unique_values,count = np.unique( data[self.Goal] , return_counts=True )\n",
    "        plurality = 0.00\n",
    "        value = 0\n",
    "        for u,c in zip(unique_values , count ) : \n",
    "            if( c > plurality ) :\n",
    "                plurality = c \n",
    "                value = u \n",
    "        node = Node(None , value , None )\n",
    "        return node \n",
    "    \n",
    "    def Get_Attribute_Lables(self , attribute,data): \n",
    "        unique_values,count = np.unique(data[attribute], return_counts=True)     \n",
    "        return (unique_values,count)\n",
    "\n",
    "    def Get_Classification(self , data, Goal ) : \n",
    "        unique_values = self.Get_Attribute_Lables(Goal , data )[0]\n",
    "        if ( len(unique_values ) >= 2 ) : \n",
    "            return -1 \n",
    "        else : \n",
    "            return unique_values[0]\n",
    "\n",
    "\n",
    "    def Get_Labeled_Data( self , label , data, main_attribute ) : \n",
    "        labeled_data = data[ data[main_attribute] == label ]\n",
    "        return labeled_data\n",
    "\n",
    "    def Get_Entropy(self , data,Goal) : \n",
    "        (unique_values,counts) = self.Get_Attribute_Lables(Goal , data )\n",
    "        B = []\n",
    "        total = np.sum(counts)\n",
    "        for c in counts : \n",
    "            p = (float)(c/total)\n",
    "            log = math.log2(p)\n",
    "            B.append( (float)(p*log) )\n",
    "        return -np.sum(B)\n",
    "\n",
    "\n",
    "    def Importance_Entropy(self, attributes , data ) : \n",
    "        Gains = []\n",
    "        Total = len(data)\n",
    "        entropyA = self.Get_Entropy(data , self.Goal )\n",
    "        for attribute in attributes : \n",
    "            Entropies = [] #np.array(size = len(attributes))\n",
    "            lables = self.Get_Attribute_Lables(attribute , data )[0]\n",
    "            # datas = np.array()\n",
    "            for l in lables : \n",
    "                exs = self.Get_Labeled_Data(l , data , attribute )\n",
    "                # display(exs)\n",
    "                entropy = self.Get_Entropy(exs , self.Goal)\n",
    "                coefficient= (float)(len(exs)/Total)\n",
    "                Entropies.append( (float)(coefficient*entropy) )\n",
    "            reminderA = np.sum(Entropies)       \n",
    "            Gains.append(( (entropyA-reminderA)  , attribute ) )\n",
    "        return max(Gains)[1]  #******************************\n",
    "\n",
    "    def Get_GiniIndex(self, data,Goal) : \n",
    "        (unique_values,counts) = self.Get_Attribute_Lables(Goal , data )\n",
    "        B = []\n",
    "        total = np.sum(counts)\n",
    "        for c in counts : \n",
    "            p = (float)(c/total)\n",
    "            pow = (float)(math.pow(p,2)) \n",
    "            B.append( pow )\n",
    "        return ( 1- (float)(np.sum(B)) )\n",
    "\n",
    "    def Importance_GiniIndex(self, attributes , data ): \n",
    "        # TotalGini = Get_GiniIndex(data)\n",
    "        Total = len(data)\n",
    "        AveragedGini = []\n",
    "        for attribute in attributes : \n",
    "            GiniImpurities = []  #np.array(size = len(attributes))\n",
    "            lables = self.Get_Attribute_Lables(attribute , self.Data )[0]\n",
    "            \n",
    "            for l in lables : \n",
    "                exs = self.Get_Labeled_Data(l , data , attribute )\n",
    "                \n",
    "                Gini = self.Get_GiniIndex(exs , self.Goal)  # 1 - sum ((p2)^2+ (p1)^2+ ...+ (pi)2 ) \n",
    "                coefficient= (float)(len(exs)/Total)\n",
    "                GiniImpurities.append( (float)(coefficient*Gini) )\n",
    "            AveragedGini.append( ( sum(GiniImpurities) , attribute ) ) \n",
    "        return min( AveragedGini )[1]   # return the main attribute \n",
    "\n",
    "\n",
    "    def Make_Root(self , data , attribute) : \n",
    "        root = Node(attribute , None , data )\n",
    "        return root\n",
    "    \n",
    "    def Decision_Tree_Learning(self , child_data ,attributes ,parent_data=None ) : \n",
    "        if ( len(child_data) == 0 ) : \n",
    "            return self.Plurality_Value(data= parent_data) ## should return a node \n",
    "        n = self.Get_Classification(child_data,self.Goal )\n",
    "        if( n != -1 ) : \n",
    "            leaf = Node(None , n , None )  \n",
    "            return leaf  \n",
    "        elif (len(attributes) == 0  ) : \n",
    "            return self.Plurality_Value(child_data,self.Goal )\n",
    "        else : \n",
    "            main_attribute = self.Importance_Method(attributes , child_data)\n",
    "            labels = self.Get_Attribute_Lables(main_attribute,self.Data)[0]\n",
    "            Root = self.Make_Root(child_data , main_attribute )  \n",
    "            attributes = np.delete( attributes, np.where(attributes == main_attribute))\n",
    "            for label in labels : \n",
    "                exs = self.Get_Labeled_Data(label , child_data , main_attribute)\n",
    "                node = self.Decision_Tree_Learning(child_data= exs ,attributes=attributes,parent_data=child_data )   ## how to remove main attribute from attributes         \n",
    "                Root.AddChild(node , label )\n",
    "        return Root \n",
    "    \n",
    "    def DFS(self , row , data , node ) : \n",
    "        attribute = node.Attribute \n",
    "        if (attribute == None ) : \n",
    "            return node.Classification \n",
    "        else : \n",
    "            label = data[attribute][row]\n",
    "            if ( label in node.Children) :\n",
    "                next = node.Children[label]\n",
    "                return self.DFS(row , data , next )\n",
    "            else : \n",
    "                return \n",
    "\n",
    "\n",
    "    def Test_Decision_Tree_Model(self , test_data) : \n",
    "        total = len( test_data)\n",
    "        correct_answeres = 0 \n",
    "        for i in range( total ): \n",
    "            answere = self.DFS( row=i ,data = test_data , node=self.Root )\n",
    "            if( answere == test_data[self.Goal][i] ) :\n",
    "               correct_answeres+=1\n",
    "        return (correct_answeres/total)*100\n",
    "    \n",
    "\n",
    "    def Graphize_Decision_Tree() :\n",
    "        pass\n",
    "\n",
    "    \n"
   ]
  },
  {
   "cell_type": "code",
   "execution_count": 279,
   "metadata": {},
   "outputs": [],
   "source": [
    "goal=\"satisfaction\"\n",
    "train_data = train.head(5999)\n",
    "attributes =  np.array(train_data.columns)\n",
    "Model = Decision_Tree(goal,attributes , data=train_data)\n",
    "attributes = np.delete( attributes , np.where(attributes == goal ))\n",
    "Model.Importance_Method = Model.Importance_Entropy\n"
   ]
  },
  {
   "cell_type": "markdown",
   "metadata": {},
   "source": [
    "Train our model with airplane train data "
   ]
  },
  {
   "cell_type": "code",
   "execution_count": 280,
   "metadata": {},
   "outputs": [],
   "source": [
    "root= Model.Decision_Tree_Learning(child_data= train_data ,attributes= attributes )\n",
    "Model.Root = root "
   ]
  },
  {
   "cell_type": "markdown",
   "metadata": {},
   "source": [
    "now test it with test data "
   ]
  },
  {
   "cell_type": "code",
   "execution_count": 283,
   "metadata": {},
   "outputs": [
    {
     "name": "stdout",
     "output_type": "stream",
     "text": [
      "91.14557278639319\n"
     ]
    }
   ],
   "source": [
    "test_data = test.head(2000)\n",
    "print(Model.Test_Decision_Tree_Model(test_data))"
   ]
  },
  {
   "cell_type": "markdown",
   "metadata": {},
   "source": [
    "Test Resturant example "
   ]
  }
 ],
 "metadata": {
  "kernelspec": {
   "display_name": "env",
   "language": "python",
   "name": "python3"
  },
  "language_info": {
   "codemirror_mode": {
    "name": "ipython",
    "version": 3
   },
   "file_extension": ".py",
   "mimetype": "text/x-python",
   "name": "python",
   "nbconvert_exporter": "python",
   "pygments_lexer": "ipython3",
   "version": "3.10.0"
  }
 },
 "nbformat": 4,
 "nbformat_minor": 2
}
