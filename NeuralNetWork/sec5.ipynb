{
 "cells": [
  {
   "cell_type": "code",
   "execution_count": 4,
   "metadata": {},
   "outputs": [],
   "source": [
    "# Imports\n",
    "import tensorflow as tf\n",
    "import numpy as np\n",
    "from tensorflow.keras.datasets import mnist\n",
    "from tensorflow.keras.models import Sequential\n",
    "from tensorflow.keras.layers import Dense\n",
    "from tensorflow.keras.utils import to_categorical\n",
    "import keras\n",
    "from keras.datasets import mnist\n",
    "from keras.models import Sequential\n",
    "from keras.layers import Dense, Dropout, Flatten\n",
    "from keras.layers import Conv2D, MaxPooling2D\n",
    "from keras.callbacks import ModelCheckpoint\n",
    "from keras.models import model_from_json\n",
    "from keras import backend as K\n",
    "import pandas as pd \n"
   ]
  },
  {
   "cell_type": "code",
   "execution_count": 7,
   "metadata": {},
   "outputs": [],
   "source": [
    "feature_vector_length = 784\n",
    "num_classes = 10\n",
    "\n",
    "# # Load the data\n",
    "(X_train, Y_train), (X_test, Y_test) = mnist.load_data()\n",
    "\n",
    "# Reshape the data - MLPs do not understand such things as '2D'.\n",
    "# Reshape to 28 x 28 pixels = 784 features\n",
    "x_train_reshaped = X_train.reshape(X_train.shape[0], feature_vector_length)\n",
    "x_test_reshaped = X_test.reshape(X_test.shape[0], feature_vector_length)\n",
    "\n",
    "# Convert into greyscale\n",
    "X_train = X_train.astype('float32')\n",
    "X_test = X_test.astype('float32')\n",
    "X_train /= 255\n",
    "X_test /= 255\n",
    "\n",
    "img_rows, img_cols = 28, 28\n",
    "\n",
    "input_shape = (img_rows, img_cols, 1)\n",
    "\n",
    "# Convert class vectors to binary class matrices. This uses 1 hot encoding.\n",
    "y_train_binary = keras.utils.to_categorical(Y_train, num_classes)\n",
    "y_test_binary = keras.utils.to_categorical(Y_test, num_classes)\n",
    "\n"
   ]
  },
  {
   "cell_type": "code",
   "execution_count": 58,
   "metadata": {},
   "outputs": [
    {
     "name": "stdout",
     "output_type": "stream",
     "text": [
      "train samples count:  60000\n",
      "test samples count:  10000\n",
      "<class 'numpy.ndarray'>\n"
     ]
    }
   ],
   "source": [
    "print(\"train samples count: \" ,  len(X_train))\n",
    "print(\"test samples count: \" ,  len(X_test))\n",
    "print(type( X_train[15000]))"
   ]
  },
  {
   "cell_type": "markdown",
   "metadata": {},
   "source": [
    "visualize some images "
   ]
  },
  {
   "cell_type": "code",
   "execution_count": 15,
   "metadata": {},
   "outputs": [
    {
     "name": "stdout",
     "output_type": "stream",
     "text": [
      "Feature shape: (784,)\n"
     ]
    }
   ],
   "source": [
    "\n",
    "# Set the input shape\n",
    "input_shape = (feature_vector_length,)\n",
    "print(f'Feature shape: {input_shape}')\n",
    "\n",
    "# Create the model\n",
    "model = Sequential()\n",
    "model.add(Dense(400, input_shape=input_shape, activation='relu'))\n",
    "model.add(Dense(60, activation='relu'))\n",
    "model.add(Dense(180, activation='tanh'))\n",
    "model.add(Dense(num_classes, activation='softmax'))\n",
    "\n"
   ]
  },
  {
   "cell_type": "code",
   "execution_count": 79,
   "metadata": {},
   "outputs": [
    {
     "name": "stdout",
     "output_type": "stream",
     "text": [
      "Epoch 1/20\n",
      "160/160 [==============================] - 2s 9ms/step - loss: 0.0757 - accuracy: 0.9766 - val_loss: 0.1223 - val_accuracy: 0.9676\n",
      "Epoch 2/20\n",
      "160/160 [==============================] - 1s 9ms/step - loss: 0.0763 - accuracy: 0.9768 - val_loss: 0.1317 - val_accuracy: 0.9657\n",
      "Epoch 3/20\n",
      "160/160 [==============================] - 1s 8ms/step - loss: 0.0744 - accuracy: 0.9775 - val_loss: 0.1260 - val_accuracy: 0.9670\n",
      "Epoch 4/20\n",
      "160/160 [==============================] - 1s 8ms/step - loss: 0.0703 - accuracy: 0.9792 - val_loss: 0.1178 - val_accuracy: 0.9671\n",
      "Epoch 5/20\n",
      "160/160 [==============================] - 1s 9ms/step - loss: 0.0729 - accuracy: 0.9776 - val_loss: 0.1157 - val_accuracy: 0.9668\n",
      "Epoch 6/20\n",
      "160/160 [==============================] - 1s 9ms/step - loss: 0.0832 - accuracy: 0.9742 - val_loss: 0.1297 - val_accuracy: 0.9630\n",
      "Epoch 7/20\n",
      "160/160 [==============================] - 1s 8ms/step - loss: 0.0810 - accuracy: 0.9749 - val_loss: 0.1289 - val_accuracy: 0.9632\n",
      "Epoch 8/20\n",
      "160/160 [==============================] - 1s 8ms/step - loss: 0.0865 - accuracy: 0.9731 - val_loss: 0.1159 - val_accuracy: 0.9649\n",
      "Epoch 9/20\n",
      "160/160 [==============================] - 1s 9ms/step - loss: 0.0723 - accuracy: 0.9771 - val_loss: 0.1628 - val_accuracy: 0.9524\n",
      "Epoch 10/20\n",
      "160/160 [==============================] - 1s 9ms/step - loss: 0.0785 - accuracy: 0.9766 - val_loss: 0.1229 - val_accuracy: 0.9647\n",
      "Epoch 11/20\n",
      "160/160 [==============================] - 1s 9ms/step - loss: 0.0786 - accuracy: 0.9762 - val_loss: 0.1176 - val_accuracy: 0.9672\n",
      "Epoch 12/20\n",
      "160/160 [==============================] - 1s 9ms/step - loss: 0.0885 - accuracy: 0.9730 - val_loss: 0.1235 - val_accuracy: 0.9636\n",
      "Epoch 13/20\n",
      "160/160 [==============================] - 1s 9ms/step - loss: 0.0777 - accuracy: 0.9765 - val_loss: 0.1144 - val_accuracy: 0.9687\n",
      "Epoch 14/20\n",
      "160/160 [==============================] - 1s 9ms/step - loss: 0.0738 - accuracy: 0.9767 - val_loss: 0.1180 - val_accuracy: 0.9675\n",
      "Epoch 15/20\n",
      "160/160 [==============================] - 1s 9ms/step - loss: 0.0813 - accuracy: 0.9753 - val_loss: 0.1394 - val_accuracy: 0.9633\n",
      "Epoch 16/20\n",
      "160/160 [==============================] - 1s 9ms/step - loss: 0.0773 - accuracy: 0.9764 - val_loss: 0.1376 - val_accuracy: 0.9613\n",
      "Epoch 17/20\n",
      "160/160 [==============================] - 1s 9ms/step - loss: 0.0846 - accuracy: 0.9738 - val_loss: 0.1298 - val_accuracy: 0.9631\n",
      "Epoch 18/20\n",
      "160/160 [==============================] - 1s 8ms/step - loss: 0.0752 - accuracy: 0.9778 - val_loss: 0.1237 - val_accuracy: 0.9663\n",
      "Epoch 19/20\n",
      "160/160 [==============================] - 1s 9ms/step - loss: 0.0799 - accuracy: 0.9757 - val_loss: 0.1171 - val_accuracy: 0.9672\n",
      "Epoch 20/20\n",
      "160/160 [==============================] - 1s 9ms/step - loss: 0.0688 - accuracy: 0.9790 - val_loss: 0.1199 - val_accuracy: 0.9649\n"
     ]
    },
    {
     "data": {
      "text/plain": [
       "<keras.src.callbacks.History at 0x1efadb85f60>"
      ]
     },
     "execution_count": 79,
     "metadata": {},
     "output_type": "execute_result"
    }
   ],
   "source": [
    "\n",
    "batch_size=300\n",
    "epochs=20\n",
    "# Configure the model and start training\n",
    "model.compile(loss='categorical_crossentropy', optimizer='adam', metrics=['accuracy'])\n",
    "# model.fit(X_train, Y_train, epochs=10, batch_size=250, verbose=1, validation_split=0.2)\n",
    "model.fit(x_train_reshaped, y_train_binary,\n",
    "          batch_size=batch_size,\n",
    "          epochs=epochs,\n",
    "          verbose=1,\n",
    "         validation_split=0.2)"
   ]
  },
  {
   "cell_type": "code",
   "execution_count": 84,
   "metadata": {},
   "outputs": [
    {
     "name": "stdout",
     "output_type": "stream",
     "text": [
      "313/313 [==============================] - 1s 2ms/step - loss: 0.1213 - accuracy: 0.9667\n",
      "Test results - Loss: 0.12125027924776077 - Accuracy: 0.96670001745224%\n"
     ]
    }
   ],
   "source": [
    "# Test the model after training\n",
    "test_results = model.evaluate(x_test_reshaped, y_test_binary , verbose=1)\n",
    "print(f'Test results - Loss: {test_results[0]} - Accuracy: {test_results[1]}%')"
   ]
  },
  {
   "cell_type": "code",
   "execution_count": 70,
   "metadata": {},
   "outputs": [],
   "source": [
    "import matplotlib.pyplot as plt\n",
    "%matplotlib inline\n",
    "\n",
    "# utility function for showing images\n",
    "def show_imgs(x_test, decoded_imgs=None, n=10):\n",
    "    plt.figure(figsize=(20, 4))\n",
    "    for i in range(n):\n",
    "        ax = plt.subplot(2, n, i+1)\n",
    "        plt.imshow(x_test[i].reshape(28,28))\n",
    "        plt.gray()\n",
    "        ax.get_xaxis().set_visible(False)\n",
    "        ax.get_yaxis().set_visible(False)\n",
    "\n",
    "        if decoded_imgs is not None:\n",
    "            ax = plt.subplot(2, n, i+ 1 +n)\n",
    "            plt.imshow(decoded_imgs[i].reshape(28,28))\n",
    "            plt.gray()\n",
    "            ax.get_xaxis().set_visible(False)\n",
    "            ax.get_yaxis().set_visible(False)\n",
    "    plt.show()"
   ]
  },
  {
   "cell_type": "code",
   "execution_count": 88,
   "metadata": {},
   "outputs": [
    {
     "name": "stdout",
     "output_type": "stream",
     "text": [
      "Predict the classes: \n",
      "1/1 [==============================] - 0s 16ms/step\n"
     ]
    },
    {
     "data": {
      "image/png": "[encoded data removed]",
      "text/plain": [
       "<Figure size 2000x400 with 10 Axes>"
      ]
     },
     "metadata": {},
     "output_type": "display_data"
    },
    {
     "name": "stdout",
     "output_type": "stream",
     "text": [
      "Predicted classes:  [0 6 9 0 1 5 9 7 3 4]\n"
     ]
    }
   ],
   "source": [
    "print('Predict the classes: ')\n",
    "prediction=model.predict(x_test_reshaped[10:20]) \n",
    "classes_x=np.argmax(prediction,axis=1)\n",
    "show_imgs(X_test[10:20])\n",
    "print('Predicted classes: ', classes_x)"
   ]
  },
  {
   "cell_type": "markdown",
   "metadata": {},
   "source": [
    "using croass validation "
   ]
  },
  {
   "cell_type": "code",
   "execution_count": 21,
   "metadata": {},
   "outputs": [
    {
     "name": "stdout",
     "output_type": "stream",
     "text": [
      "i : 0\n",
      "(17500, 784)\n",
      "Epoch 1/20\n",
      "140/140 [==============================] - 3s 12ms/step - loss: 0.0525 - accuracy: 0.9835 - val_loss: 0.1181 - val_accuracy: 0.9704\n",
      "Epoch 2/20\n",
      "140/140 [==============================] - 1s 10ms/step - loss: 0.0526 - accuracy: 0.9835 - val_loss: 0.1250 - val_accuracy: 0.9685\n",
      "Epoch 3/20\n",
      "140/140 [==============================] - 1s 9ms/step - loss: 0.0628 - accuracy: 0.9805 - val_loss: 0.1326 - val_accuracy: 0.9657\n",
      "Epoch 4/20\n",
      "140/140 [==============================] - 1s 10ms/step - loss: 0.0628 - accuracy: 0.9801 - val_loss: 0.1124 - val_accuracy: 0.9682\n",
      "Epoch 5/20\n",
      "140/140 [==============================] - 1s 10ms/step - loss: 0.0599 - accuracy: 0.9795 - val_loss: 0.1217 - val_accuracy: 0.9657\n",
      "Epoch 6/20\n",
      "140/140 [==============================] - 2s 11ms/step - loss: 0.0603 - accuracy: 0.9807 - val_loss: 0.1086 - val_accuracy: 0.9669\n",
      "Epoch 7/20\n",
      "140/140 [==============================] - 2s 11ms/step - loss: 0.0591 - accuracy: 0.9813 - val_loss: 0.1308 - val_accuracy: 0.9650\n",
      "Epoch 8/20\n",
      "140/140 [==============================] - 1s 9ms/step - loss: 0.0585 - accuracy: 0.9809 - val_loss: 0.1262 - val_accuracy: 0.9662\n",
      "Epoch 9/20\n",
      "140/140 [==============================] - 1s 9ms/step - loss: 0.0510 - accuracy: 0.9837 - val_loss: 0.1251 - val_accuracy: 0.9674\n",
      "Epoch 10/20\n",
      "140/140 [==============================] - 1s 8ms/step - loss: 0.0559 - accuracy: 0.9821 - val_loss: 0.1203 - val_accuracy: 0.9676\n",
      "Epoch 11/20\n",
      "140/140 [==============================] - 1s 9ms/step - loss: 0.0637 - accuracy: 0.9796 - val_loss: 0.1178 - val_accuracy: 0.9677\n",
      "Epoch 12/20\n",
      "140/140 [==============================] - 1s 9ms/step - loss: 0.0566 - accuracy: 0.9817 - val_loss: 0.1162 - val_accuracy: 0.9664\n",
      "Epoch 13/20\n",
      "140/140 [==============================] - 1s 9ms/step - loss: 0.0675 - accuracy: 0.9787 - val_loss: 0.1134 - val_accuracy: 0.9690\n",
      "Epoch 14/20\n",
      "140/140 [==============================] - 1s 8ms/step - loss: 0.0585 - accuracy: 0.9819 - val_loss: 0.1072 - val_accuracy: 0.9690\n",
      "Epoch 15/20\n",
      "140/140 [==============================] - 1s 9ms/step - loss: 0.0579 - accuracy: 0.9817 - val_loss: 0.1099 - val_accuracy: 0.9680\n",
      "Epoch 16/20\n",
      "140/140 [==============================] - 1s 8ms/step - loss: 0.0513 - accuracy: 0.9844 - val_loss: 0.1203 - val_accuracy: 0.9655\n",
      "Epoch 17/20\n",
      "140/140 [==============================] - 1s 9ms/step - loss: 0.0562 - accuracy: 0.9823 - val_loss: 0.1126 - val_accuracy: 0.9689\n",
      "Epoch 18/20\n",
      "140/140 [==============================] - 1s 9ms/step - loss: 0.0587 - accuracy: 0.9806 - val_loss: 0.1108 - val_accuracy: 0.9670\n",
      "Epoch 19/20\n",
      "140/140 [==============================] - 1s 9ms/step - loss: 0.0518 - accuracy: 0.9841 - val_loss: 0.1022 - val_accuracy: 0.9737\n",
      "Epoch 20/20\n",
      "140/140 [==============================] - 1s 9ms/step - loss: 0.0536 - accuracy: 0.9828 - val_loss: 0.1101 - val_accuracy: 0.9690\n",
      "547/547 [==============================] - 1s 2ms/step - loss: 0.1234 - accuracy: 0.9656\n",
      "I: 0% Test results - Loss: 0.12344267219305038 - Accuracy: 0.9656000137329102%\n",
      "i : 1\n",
      "(17500, 784)\n",
      "Epoch 1/20\n",
      "140/140 [==============================] - 2s 10ms/step - loss: 0.0796 - accuracy: 0.9775 - val_loss: 0.1231 - val_accuracy: 0.9665\n",
      "Epoch 2/20\n",
      "140/140 [==============================] - 1s 10ms/step - loss: 0.0821 - accuracy: 0.9755 - val_loss: 0.1188 - val_accuracy: 0.9672\n",
      "Epoch 3/20\n",
      "140/140 [==============================] - 1s 9ms/step - loss: 0.0775 - accuracy: 0.9771 - val_loss: 0.1149 - val_accuracy: 0.9688\n",
      "Epoch 4/20\n",
      "140/140 [==============================] - 1s 9ms/step - loss: 0.0832 - accuracy: 0.9748 - val_loss: 0.1269 - val_accuracy: 0.9680\n",
      "Epoch 5/20\n",
      "140/140 [==============================] - 1s 10ms/step - loss: 0.0816 - accuracy: 0.9768 - val_loss: 0.1280 - val_accuracy: 0.9669\n",
      "Epoch 6/20\n",
      "140/140 [==============================] - 1s 10ms/step - loss: 0.0790 - accuracy: 0.9761 - val_loss: 0.1313 - val_accuracy: 0.9627\n",
      "Epoch 7/20\n",
      "140/140 [==============================] - 1s 10ms/step - loss: 0.0800 - accuracy: 0.9755 - val_loss: 0.1177 - val_accuracy: 0.9657\n",
      "Epoch 8/20\n",
      "140/140 [==============================] - 1s 9ms/step - loss: 0.0842 - accuracy: 0.9739 - val_loss: 0.1323 - val_accuracy: 0.9640\n",
      "Epoch 9/20\n",
      "140/140 [==============================] - 1s 10ms/step - loss: 0.0944 - accuracy: 0.9712 - val_loss: 0.1100 - val_accuracy: 0.9685\n",
      "Epoch 10/20\n",
      "140/140 [==============================] - 1s 10ms/step - loss: 0.0847 - accuracy: 0.9735 - val_loss: 0.1199 - val_accuracy: 0.9650\n",
      "Epoch 11/20\n",
      "140/140 [==============================] - 1s 10ms/step - loss: 0.0856 - accuracy: 0.9737 - val_loss: 0.1461 - val_accuracy: 0.9599\n",
      "Epoch 12/20\n",
      "140/140 [==============================] - 1s 9ms/step - loss: 0.0790 - accuracy: 0.9757 - val_loss: 0.1214 - val_accuracy: 0.9649\n",
      "Epoch 13/20\n",
      "140/140 [==============================] - 1s 9ms/step - loss: 0.0782 - accuracy: 0.9760 - val_loss: 0.1330 - val_accuracy: 0.9625\n",
      "Epoch 14/20\n",
      "140/140 [==============================] - 1s 9ms/step - loss: 0.0776 - accuracy: 0.9765 - val_loss: 0.1234 - val_accuracy: 0.9664\n",
      "Epoch 15/20\n",
      "140/140 [==============================] - 1s 9ms/step - loss: 0.0816 - accuracy: 0.9743 - val_loss: 0.1238 - val_accuracy: 0.9682\n",
      "Epoch 16/20\n",
      "140/140 [==============================] - 1s 9ms/step - loss: 0.0738 - accuracy: 0.9771 - val_loss: 0.1195 - val_accuracy: 0.9693\n",
      "Epoch 17/20\n",
      "140/140 [==============================] - 1s 10ms/step - loss: 0.0706 - accuracy: 0.9790 - val_loss: 0.1207 - val_accuracy: 0.9668\n",
      "Epoch 18/20\n",
      "140/140 [==============================] - 1s 9ms/step - loss: 0.0719 - accuracy: 0.9775 - val_loss: 0.1266 - val_accuracy: 0.9652\n",
      "Epoch 19/20\n",
      "140/140 [==============================] - 1s 9ms/step - loss: 0.0703 - accuracy: 0.9779 - val_loss: 0.1262 - val_accuracy: 0.9643\n",
      "Epoch 20/20\n",
      "140/140 [==============================] - 1s 9ms/step - loss: 0.0712 - accuracy: 0.9778 - val_loss: 0.1184 - val_accuracy: 0.9705\n",
      "547/547 [==============================] - 1s 2ms/step - loss: 0.0774 - accuracy: 0.9779\n",
      "I: 1% Test results - Loss: 0.07736755907535553 - Accuracy: 0.9779428839683533%\n",
      "i : 2\n",
      "(17500, 784)\n",
      "Epoch 1/20\n",
      "140/140 [==============================] - 2s 10ms/step - loss: 0.0654 - accuracy: 0.9797 - val_loss: 0.1089 - val_accuracy: 0.9717\n",
      "Epoch 2/20\n",
      "140/140 [==============================] - 1s 10ms/step - loss: 0.0719 - accuracy: 0.9782 - val_loss: 0.1194 - val_accuracy: 0.9705\n",
      "Epoch 3/20\n",
      "140/140 [==============================] - 1s 9ms/step - loss: 0.0765 - accuracy: 0.9777 - val_loss: 0.1223 - val_accuracy: 0.9674\n",
      "Epoch 4/20\n",
      "140/140 [==============================] - 1s 10ms/step - loss: 0.0787 - accuracy: 0.9761 - val_loss: 0.1578 - val_accuracy: 0.9555\n",
      "Epoch 5/20\n",
      "140/140 [==============================] - 1s 9ms/step - loss: 0.0714 - accuracy: 0.9785 - val_loss: 0.1369 - val_accuracy: 0.9646\n",
      "Epoch 6/20\n",
      "140/140 [==============================] - 1s 9ms/step - loss: 0.0752 - accuracy: 0.9764 - val_loss: 0.1136 - val_accuracy: 0.9693\n",
      "Epoch 7/20\n",
      "140/140 [==============================] - 1s 9ms/step - loss: 0.0706 - accuracy: 0.9778 - val_loss: 0.1079 - val_accuracy: 0.9696\n",
      "Epoch 8/20\n",
      "140/140 [==============================] - 1s 9ms/step - loss: 0.0734 - accuracy: 0.9779 - val_loss: 0.1120 - val_accuracy: 0.9683\n",
      "Epoch 9/20\n",
      "140/140 [==============================] - 1s 8ms/step - loss: 0.0738 - accuracy: 0.9773 - val_loss: 0.1155 - val_accuracy: 0.9674\n",
      "Epoch 10/20\n",
      "140/140 [==============================] - 1s 8ms/step - loss: 0.0714 - accuracy: 0.9784 - val_loss: 0.1047 - val_accuracy: 0.9710\n",
      "Epoch 11/20\n",
      "140/140 [==============================] - 1s 8ms/step - loss: 0.0757 - accuracy: 0.9772 - val_loss: 0.1029 - val_accuracy: 0.9710\n",
      "Epoch 12/20\n",
      "140/140 [==============================] - 1s 9ms/step - loss: 0.0722 - accuracy: 0.9772 - val_loss: 0.1016 - val_accuracy: 0.9696\n",
      "Epoch 13/20\n",
      "140/140 [==============================] - 1s 9ms/step - loss: 0.0648 - accuracy: 0.9803 - val_loss: 0.1052 - val_accuracy: 0.9685\n",
      "Epoch 14/20\n",
      "140/140 [==============================] - 1s 9ms/step - loss: 0.0659 - accuracy: 0.9801 - val_loss: 0.1048 - val_accuracy: 0.9703\n",
      "Epoch 15/20\n",
      "140/140 [==============================] - 1s 9ms/step - loss: 0.0672 - accuracy: 0.9794 - val_loss: 0.1066 - val_accuracy: 0.9698\n",
      "Epoch 16/20\n",
      "140/140 [==============================] - 1s 9ms/step - loss: 0.0646 - accuracy: 0.9802 - val_loss: 0.1163 - val_accuracy: 0.9683\n",
      "Epoch 17/20\n",
      "140/140 [==============================] - 1s 9ms/step - loss: 0.0740 - accuracy: 0.9777 - val_loss: 0.1195 - val_accuracy: 0.9654\n",
      "Epoch 18/20\n",
      "140/140 [==============================] - 1s 8ms/step - loss: 0.0815 - accuracy: 0.9753 - val_loss: 0.1377 - val_accuracy: 0.9621\n",
      "Epoch 19/20\n",
      "140/140 [==============================] - 1s 9ms/step - loss: 0.0968 - accuracy: 0.9708 - val_loss: 0.1337 - val_accuracy: 0.9609\n",
      "Epoch 20/20\n",
      "140/140 [==============================] - 1s 8ms/step - loss: 0.0948 - accuracy: 0.9714 - val_loss: 0.1280 - val_accuracy: 0.9641\n",
      "547/547 [==============================] - 1s 2ms/step - loss: 0.0985 - accuracy: 0.9694\n",
      "I: 2% Test results - Loss: 0.09845422953367233 - Accuracy: 0.9694285988807678%\n",
      "i : 3\n",
      "(17500, 784)\n",
      "Epoch 1/20\n",
      "140/140 [==============================] - 2s 10ms/step - loss: 0.0777 - accuracy: 0.9772 - val_loss: 0.0894 - val_accuracy: 0.9729\n",
      "Epoch 2/20\n",
      "140/140 [==============================] - 1s 10ms/step - loss: 0.0775 - accuracy: 0.9771 - val_loss: 0.0806 - val_accuracy: 0.9766\n",
      "Epoch 3/20\n",
      "140/140 [==============================] - 1s 8ms/step - loss: 0.0710 - accuracy: 0.9786 - val_loss: 0.0805 - val_accuracy: 0.9738\n",
      "Epoch 4/20\n",
      "140/140 [==============================] - 1s 9ms/step - loss: 0.0671 - accuracy: 0.9798 - val_loss: 0.0808 - val_accuracy: 0.9744\n",
      "Epoch 5/20\n",
      "140/140 [==============================] - 1s 9ms/step - loss: 0.0649 - accuracy: 0.9801 - val_loss: 0.0842 - val_accuracy: 0.9741\n",
      "Epoch 6/20\n",
      "140/140 [==============================] - 1s 10ms/step - loss: 0.0735 - accuracy: 0.9768 - val_loss: 0.0908 - val_accuracy: 0.9736\n",
      "Epoch 7/20\n",
      "140/140 [==============================] - 1s 10ms/step - loss: 0.0833 - accuracy: 0.9747 - val_loss: 0.0882 - val_accuracy: 0.9739\n",
      "Epoch 8/20\n",
      "140/140 [==============================] - 1s 9ms/step - loss: 0.0745 - accuracy: 0.9778 - val_loss: 0.1063 - val_accuracy: 0.9685\n",
      "Epoch 9/20\n",
      "140/140 [==============================] - 1s 9ms/step - loss: 0.0719 - accuracy: 0.9788 - val_loss: 0.0854 - val_accuracy: 0.9739\n",
      "Epoch 10/20\n",
      "140/140 [==============================] - 1s 9ms/step - loss: 0.0721 - accuracy: 0.9786 - val_loss: 0.0925 - val_accuracy: 0.9737\n",
      "Epoch 11/20\n",
      "140/140 [==============================] - 1s 9ms/step - loss: 0.0758 - accuracy: 0.9769 - val_loss: 0.0916 - val_accuracy: 0.9740\n",
      "Epoch 12/20\n",
      "140/140 [==============================] - 1s 10ms/step - loss: 0.0731 - accuracy: 0.9782 - val_loss: 0.0869 - val_accuracy: 0.9726\n",
      "Epoch 13/20\n",
      "140/140 [==============================] - 1s 10ms/step - loss: 0.0804 - accuracy: 0.9750 - val_loss: 0.0987 - val_accuracy: 0.9697\n",
      "Epoch 14/20\n",
      "140/140 [==============================] - 1s 9ms/step - loss: 0.0857 - accuracy: 0.9743 - val_loss: 0.0884 - val_accuracy: 0.9720\n",
      "Epoch 15/20\n",
      "140/140 [==============================] - 1s 9ms/step - loss: 0.0900 - accuracy: 0.9735 - val_loss: 0.0991 - val_accuracy: 0.9705\n",
      "Epoch 16/20\n",
      "140/140 [==============================] - 1s 9ms/step - loss: 0.0810 - accuracy: 0.9755 - val_loss: 0.0956 - val_accuracy: 0.9703\n",
      "Epoch 17/20\n",
      "140/140 [==============================] - 1s 9ms/step - loss: 0.0970 - accuracy: 0.9704 - val_loss: 0.1086 - val_accuracy: 0.9662\n",
      "Epoch 18/20\n",
      "140/140 [==============================] - 1s 9ms/step - loss: 0.0904 - accuracy: 0.9729 - val_loss: 0.1292 - val_accuracy: 0.9608\n",
      "Epoch 19/20\n",
      "140/140 [==============================] - 1s 10ms/step - loss: 0.0990 - accuracy: 0.9703 - val_loss: 0.1182 - val_accuracy: 0.9612\n",
      "Epoch 20/20\n",
      "140/140 [==============================] - 1s 9ms/step - loss: 0.0999 - accuracy: 0.9689 - val_loss: 0.1389 - val_accuracy: 0.9586\n",
      "547/547 [==============================] - 1s 2ms/step - loss: 0.1281 - accuracy: 0.9610\n",
      "I: 3% Test results - Loss: 0.12805849313735962 - Accuracy: 0.9610285758972168%\n"
     ]
    }
   ],
   "source": [
    "(X_train, Y_train), (X_test, Y_test) = mnist.load_data()\n",
    "xx = [ X_train , X_test]\n",
    "yy =[ Y_train , Y_test]\n",
    "X = np.concatenate ( xx)\n",
    "Y= np.concatenate(yy)\n",
    "\n",
    "test_part = []\n",
    "accuracy = []\n",
    "four_part_size = int(len( X)/4  )\n",
    "data = X\n",
    "goal_col = Y \n",
    "batch_size=300\n",
    "epochs=20\n",
    "\n",
    "\n",
    "for i in range(4) :\n",
    "    print(\"i :\" , i )\n",
    "    test = data[i*four_part_size : (i+1)*four_part_size ]\n",
    "    test_goal_col = goal_col[i*four_part_size : (i+1)*four_part_size ]\n",
    "    if( i == 0 ) :\n",
    "        train = data[(i+1)*four_part_size:]\n",
    "        train_goal_col = goal_col[(i+1)*four_part_size:]\n",
    "    elif ( i ==3 ) : \n",
    "        train = data[0:i*four_part_size]\n",
    "        train_goal_col = goal_col[0:i*four_part_size]\n",
    "    else :\n",
    "        df1 = data[0 : i*four_part_size ]\n",
    "        df2 = data[(i+1)*four_part_size :]\n",
    "        train = np.concatenate( (df1 , df2) )\n",
    "        df1 = goal_col[0 : i*four_part_size ]\n",
    "        df2 = goal_col[(i+1)*four_part_size :]\n",
    "        train_goal_col = np.concatenate((df1 , df2 ))\n",
    "        \n",
    "    x_train_reshaped = train.reshape(train.shape[0], feature_vector_length)\n",
    "    x_test_reshaped = test.reshape(test.shape[0], feature_vector_length)\n",
    "\n",
    "    print(x_test_reshaped.shape )\n",
    "    train = train.astype('float32')\n",
    "    test = test.astype('float32')\n",
    "    train /= 255\n",
    "    test /= 255\n",
    "\n",
    "    y_train_binary = keras.utils.to_categorical(train_goal_col, num_classes)\n",
    "    y_test_binary = keras.utils.to_categorical(test_goal_col, num_classes)\n",
    "    model.compile(loss='categorical_crossentropy', optimizer='adam', metrics=['accuracy'])\n",
    "    model.fit(x_train_reshaped, y_train_binary,\n",
    "        batch_size=batch_size,\n",
    "        epochs=epochs,\n",
    "        verbose=1,\n",
    "        validation_split=0.2)\n",
    "    test_results = model.evaluate(x_test_reshaped, y_test_binary , verbose=1)\n",
    "    print(f'I: {i}% Test results - Loss: {test_results[0]} - Accuracy: {test_results[1]}%')\n",
    "    test_part.append(i) \n",
    "    accuracy.append( test_results[1] )\n"
   ]
  },
  {
   "cell_type": "code",
   "execution_count": 25,
   "metadata": {},
   "outputs": [
    {
     "name": "stdout",
     "output_type": "stream",
     "text": [
      "Test average Result : 0.968500018119812\n"
     ]
    },
    {
     "data": {
      "image/png": "[encoded data removed]",
      "text/plain": [
       "<Figure size 640x480 with 1 Axes>"
      ]
     },
     "metadata": {},
     "output_type": "display_data"
    }
   ],
   "source": [
    "import matplotlib.pyplot as plt\n",
    "test_accuracies = np.average( accuracy)\n",
    "print( \"Test average Result :\" , np.average(test_accuracies ))\n",
    "\n",
    "plt.plot( test_part,accuracy, color='r', label='Test')   \n",
    "# Naming the x-axis, y-axis and the whole graph \n",
    "plt.xlabel(\"test data part\") \n",
    "plt.ylabel(\"Accuracy\") \n",
    "plt.title(\"cross-validation\") \n",
    "plt.legend() \n",
    "plt.show() "
   ]
  }
 ],
 "metadata": {
  "kernelspec": {
   "display_name": "env",
   "language": "python",
   "name": "python3"
  },
  "language_info": {
   "codemirror_mode": {
    "name": "ipython",
    "version": 3
   },
   "file_extension": ".py",
   "mimetype": "text/x-python",
   "name": "python",
   "nbconvert_exporter": "python",
   "pygments_lexer": "ipython3",
   "version": "3.10.0"
  }
 },
 "nbformat": 4,
 "nbformat_minor": 2
}
