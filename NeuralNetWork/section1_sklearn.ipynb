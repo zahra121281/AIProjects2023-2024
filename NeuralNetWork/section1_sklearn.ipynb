{
 "cells": [
  {
   "cell_type": "code",
   "execution_count": 2,
   "metadata": {},
   "outputs": [],
   "source": [
    "import pandas as pd\n",
    "import numpy as np \n",
    "import matplotlib.pyplot as plt\n",
    "import sklearn \n",
    "from sklearn.neural_network import MLPClassifier\n",
    "from sklearn.neural_network import MLPRegressor\n",
    "\n",
    "from sklearn.model_selection import train_test_split\n",
    "from sklearn.metrics import mean_squared_error\n",
    "from math import sqrt\n",
    "from sklearn.metrics import r2_score\n",
    "from sklearn.metrics import classification_report,confusion_matrix"
   ]
  },
  {
   "cell_type": "markdown",
   "metadata": {},
   "source": [
    "Part 1: "
   ]
  },
  {
   "cell_type": "code",
   "execution_count": 3,
   "metadata": {},
   "outputs": [],
   "source": [
    "data = pd.read_csv(\"airplane.csv\")\n",
    "data = data.drop(\"Unnamed: 0\",axis=1)\n",
    "# model_info = [train , test ]\n",
    "data.fillna(0) \n",
    "data['satisfaction'] = data['satisfaction'].map({'neutral or dissatisfied' : 0 ,'satisfied' :1} )\n",
    "data['Arrival Delay in Minutes'] = data['Arrival Delay in Minutes'].fillna(0)\n",
    "\n",
    "goal_col = data[\"satisfaction\"]\n",
    "\n",
    "c0 =  data['Departure Delay in Minutes']\n",
    "# print(\"max and min in age\")\n",
    "c1 = data['Arrival Delay in Minutes'] \n",
    "arrival_departure_delay = []\n",
    "\n",
    "for i in range(len(c0)) : \n",
    "    arrival_departure_delay.append( (int)((c0[i]+c1[i])/2) )\n",
    "data.insert(20 , 'Arrival/Departure Delay in Minutes' , arrival_departure_delay)\n",
    "data = data.drop( [\"id\" ,\"Departure/Arrival time convenient\",\"Gender\" ,\"Departure Delay in Minutes\",\"Arrival Delay in Minutes\" ,\"satisfaction\"] , axis='columns' )\n",
    "\n",
    "# classify customer type\n",
    "data['Customer Type'] = data['Customer Type'].map({'Loyal Customer' : 1 ,'disloyal Customer' :0 } )\n",
    "\n",
    "# classify type of travel \n",
    "data['Type of Travel'] = data['Type of Travel'].map({'Business travel' : 0 ,'Personal Travel' :1 } )\n",
    "# classify Class \n",
    "data['Class'] = data['Class'].map({'Business' : 0 ,'Eco' :1 ,'Eco Plus' :2 } )\n",
    "\n",
    "# classify age \n",
    "data.loc[data['Age'] <= 16  , 'Age']                          = 0 \n",
    "data.loc[ (data['Age'] > 16 ) & (data['Age'] <= 32 ) , 'Age'] = 1 \n",
    "data.loc[ (data['Age'] > 32 ) & (data['Age'] <= 48 ) , 'Age'] = 2 \n",
    "data.loc[ (data['Age'] > 48 ) & (data['Age'] <= 64 ) , 'Age'] = 3\n",
    "data.loc[ (data['Age'] > 64 ) & (data['Age'] <= 80 ) , 'Age'] = 4\n",
    "data.loc[ (data['Age'] > 80 ) , 'Age']                        = 5\n",
    "\n",
    "# classify Arrival/Departure Delay in Minutes\n",
    "data.loc[  data['Arrival/Departure Delay in Minutes'] == 0.0  ,      'Arrival/Departure Delay in Minutes']                                                      = 0 \n",
    "data.loc[ (data['Arrival/Departure Delay in Minutes'] > 0.0 ) & (data['Arrival/Departure Delay in Minutes'] <= 10.0 ) , 'Arrival/Departure Delay in Minutes']   = 5 \n",
    "data.loc[ (data['Arrival/Departure Delay in Minutes'] > 10.0 ) & (data['Arrival/Departure Delay in Minutes'] <= 20.0 ) ,  'Arrival/Departure Delay in Minutes']   = 2\n",
    "data.loc[ (data['Arrival/Departure Delay in Minutes'] > 20.0 ) & (data['Arrival/Departure Delay in Minutes'] <= 30.0 ) ,  'Arrival/Departure Delay in Minutes']   = 3\n",
    "data.loc[ (data['Arrival/Departure Delay in Minutes'] > 30.0 ) & (data['Arrival/Departure Delay in Minutes'] <= 50.0 ) ,  'Arrival/Departure Delay in Minutes']   = 3\n",
    "data.loc[ (data['Arrival/Departure Delay in Minutes'] > 50.0 ) & (data['Arrival/Departure Delay in Minutes'] <= 80.0 ) ,  'Arrival/Departure Delay in Minutes']   = 4 \n",
    "data.loc[ (data['Arrival/Departure Delay in Minutes'] > 80.0 ) & (data['Arrival/Departure Delay in Minutes'] <= 120.0 ) , 'Arrival/Departure Delay in Minutes']   = 5 \n",
    "data.loc[ (data['Arrival/Departure Delay in Minutes'] > 120.0 ) &(data['Arrival/Departure Delay in Minutes'] <= 170.0 ) , 'Arrival/Departure Delay in Minutes']   = 6\n",
    "data.loc[ (data['Arrival/Departure Delay in Minutes'] > 170.0 ) &(data['Arrival/Departure Delay in Minutes'] <= 200.0 ) , 'Arrival/Departure Delay in Minutes']   = 7\n",
    "data.loc[ (data['Arrival/Departure Delay in Minutes'] > 200.0 ) , 'Arrival/Departure Delay in Minutes']                                                           = 8\n",
    "\n",
    "# classify Flight Distance\n",
    "\n",
    "data.loc[ (data['Flight Distance'] <= 1000 ) ,  'Flight Distance']                                      = 0\n",
    "data.loc[ (data['Flight Distance'] > 1000 ) & (data['Flight Distance'] <= 2000 ) ,  'Flight Distance']  = 1\n",
    "data.loc[ (data['Flight Distance'] > 2000 ) &  (data['Flight Distance'] <= 3000 ) , 'Flight Distance']  = 2\n",
    "data.loc[ (data['Flight Distance'] > 3000 ) & (data['Flight Distance'] <= 4000 ) , 'Flight Distance']   = 3\n",
    "data.loc[ (data['Flight Distance'] > 4000 ) , 'Flight Distance']                                        = 4\n",
    "\n"
   ]
  },
  {
   "cell_type": "code",
   "execution_count": 4,
   "metadata": {},
   "outputs": [
    {
     "name": "stdout",
     "output_type": "stream",
     "text": [
      "(100000, 19)\n",
      "0        0\n",
      "1        0\n",
      "2        1\n",
      "3        0\n",
      "4        1\n",
      "        ..\n",
      "99995    0\n",
      "99996    0\n",
      "99997    1\n",
      "99998    0\n",
      "99999    0\n",
      "Name: satisfaction, Length: 100000, dtype: int64\n"
     ]
    }
   ],
   "source": [
    "# train.describe().transpose()\n",
    "data.describe().transpose()\n",
    "print( data.shape )\n",
    "print( goal_col )"
   ]
  },
  {
   "cell_type": "code",
   "execution_count": 5,
   "metadata": {},
   "outputs": [
    {
     "name": "stdout",
     "output_type": "stream",
     "text": [
      "[[42077   338]\n",
      " [  214 32371]]\n",
      "              precision    recall  f1-score   support\n",
      "\n",
      "           0       0.99      0.99      0.99     42415\n",
      "           1       0.99      0.99      0.99     32585\n",
      "\n",
      "    accuracy                           0.99     75000\n",
      "   macro avg       0.99      0.99      0.99     75000\n",
      "weighted avg       0.99      0.99      0.99     75000\n",
      "\n"
     ]
    }
   ],
   "source": [
    "four_part_size = int(len(data)/4)\n",
    "train = data[0:75000]\n",
    "test = data[75000:100000]\n",
    "train_goal_col = goal_col[0:75000]\n",
    "test_goal_col = goal_col[75000:100000]\n",
    "mlp = MLPClassifier(hidden_layer_sizes=(100,100,100,100), activation='relu', solver='adam', max_iter=500,shuffle=True)\n",
    "mlp.fit(train ,train_goal_col )\n",
    "predict_train = mlp.predict(train)\n",
    "predict_test = mlp.predict(test)\n",
    "print(confusion_matrix(train_goal_col ,predict_train))\n",
    "t1 = classification_report(train_goal_col ,predict_train)\n",
    "print(t1)\n",
    "\n"
   ]
  },
  {
   "cell_type": "code",
   "execution_count": 12,
   "metadata": {},
   "outputs": [
    {
     "name": "stdout",
     "output_type": "stream",
     "text": [
      "{'0': {'precision': 0.9947802262689246, 'recall': 0.992997760226335, 'f1-score': 0.9938881940675366, 'support': 42415.0}, '1': {'precision': 0.9909065858363185, 'recall': 0.9932177382231088, 'f1-score': 0.9920608159887195, 'support': 32585.0}, 'accuracy': 0.9930933333333334, 'macro avg': {'precision': 0.9928434060526216, 'recall': 0.9931077492247219, 'f1-score': 0.992974505028128, 'support': 75000.0}, 'weighted avg': {'precision': 0.993097258622305, 'recall': 0.9930933333333334, 'f1-score': 0.9930942592048932, 'support': 75000.0}}\n"
     ]
    }
   ],
   "source": [
    "# print(confusion_matrix(test_goal_col,predict_test))\n",
    "t2 = classification_report(test_goal_col ,predict_test)\n",
    "print(t1)"
   ]
  },
  {
   "cell_type": "markdown",
   "metadata": {},
   "source": [
    "Testing validation technique"
   ]
  },
  {
   "cell_type": "code",
   "execution_count": 14,
   "metadata": {},
   "outputs": [
    {
     "name": "stdout",
     "output_type": "stream",
     "text": [
      "i : 0\n",
      "[[42374   238]\n",
      " [  346 32042]]\n",
      "0.9922133333333333\n",
      "0.95128\n",
      "i : 1\n",
      "[[41476  1028]\n",
      " [  363 32133]]\n",
      "0.9814533333333333\n",
      "0.94572\n",
      "i : 2\n",
      "[[42133   331]\n",
      " [  440 32096]]\n",
      "0.98972\n",
      "0.95224\n",
      "i : 3\n",
      "[[42085   330]\n",
      " [  454 32131]]\n",
      "0.9895466666666667\n",
      "0.95044\n"
     ]
    }
   ],
   "source": [
    "from sklearn.metrics import classification_report,confusion_matrix\n",
    "test_part = []\n",
    "accuracy = []\n",
    "four_part_size = int(len(data)/4 )\n",
    "\n",
    "for i in range(4) :\n",
    "    print(\"i :\" , i )\n",
    "    test = data[i*four_part_size : (i+1)*four_part_size ]\n",
    "    test_goal_col = goal_col[i*four_part_size : (i+1)*four_part_size ]\n",
    "    if( i == 0 ) :\n",
    "        train = data[(i+1)*four_part_size:]\n",
    "        train_goal_col = goal_col[(i+1)*four_part_size:]\n",
    "    elif ( i ==3 ) : \n",
    "        train = data[0:i*four_part_size]\n",
    "        train_goal_col = goal_col[0:i*four_part_size]\n",
    "    else :\n",
    "        df1 = data[0 : i*four_part_size ]\n",
    "        df2 = data[(i+1)*four_part_size :]\n",
    "        res = [df1 , df2 ]\n",
    "        train = pd.concat(res)\n",
    "        df1 = goal_col[0 : i*four_part_size ]\n",
    "        df2 = goal_col[(i+1)*four_part_size :]\n",
    "        res = [df1 , df2 ]\n",
    "        train_goal_col = pd.concat(res)\n",
    "    \n",
    "    mlp = MLPClassifier(hidden_layer_sizes=(50,100,100,50), activation='relu', solver='adam', max_iter=500,shuffle=True)\n",
    "    mlp.fit(train ,train_goal_col )\n",
    "    predict_train = mlp.predict(train)\n",
    "    predict_test = mlp.predict(test)\n",
    "    print(confusion_matrix(train_goal_col ,predict_train))\n",
    "    t1 = classification_report(train_goal_col ,predict_train,output_dict=True)\n",
    "    print(t1['accuracy'])\n",
    "    # print(confusion_matrix(test_goal_col,predict_test))\n",
    "    t2 = classification_report(test_goal_col ,predict_test,output_dict=True)\n",
    "    print(t2['accuracy'] )\n",
    "    test_part.append(i) \n",
    "    accuracy.append((t1 , t2 ))\n"
   ]
  },
  {
   "cell_type": "markdown",
   "metadata": {},
   "source": [
    "using cross validation . devide data to 4 parts and use 0.25 of them as test data each time ; "
   ]
  },
  {
   "cell_type": "code",
   "execution_count": 16,
   "metadata": {},
   "outputs": [
    {
     "name": "stdout",
     "output_type": "stream",
     "text": [
      "Train average Result : 0.9841433333333334\n",
      "Test average Result : 0.94711\n"
     ]
    },
    {
     "data": {
      "image/png": "[encoded data removed]",
      "text/plain": [
       "<Figure size 640x480 with 1 Axes>"
      ]
     },
     "metadata": {},
     "output_type": "display_data"
    }
   ],
   "source": [
    "\n",
    "train_accuracy1 = accuracy[0][0]['accuracy']\n",
    "test_accuracy1 = accuracy[0][1]['accuracy']\n",
    "\n",
    "train_accuracy2 = accuracy[1][0]['accuracy']\n",
    "test_accuracy2 = accuracy[1][1]['accuracy']\n",
    "\n",
    "train_accuracy3 = accuracy[1][0]['accuracy']\n",
    "test_accuracy3 = accuracy[1][1]['accuracy']\n",
    "\n",
    "train_accuracy4 = accuracy[1][0]['accuracy']\n",
    "test_accuracy4 = accuracy[1][1]['accuracy']\n",
    "train_accuracies = [train_accuracy1 , train_accuracy2 ,train_accuracy3 , train_accuracy4 ]\n",
    "test_accuracies = [test_accuracy1 , test_accuracy2 ,test_accuracy3 , test_accuracy4 ]\n",
    "\n",
    "print( \"Train average Result :\" , np.average(train_accuracies ))\n",
    "print( \"Test average Result :\" , np.average(test_accuracies ))\n",
    "\n",
    "plt.plot( test_part,train_accuracies , color='b', label='Train')\n",
    "plt.plot( test_part,test_accuracies, color='r', label='Test')   \n",
    "# Naming the x-axis, y-axis and the whole graph \n",
    "plt.xlabel(\"test data part\") \n",
    "plt.ylabel(\"Accuracy\") \n",
    "plt.title(\"cross-validation\") \n",
    "plt.legend() \n",
    "plt.show() "
   ]
  }
 ],
 "metadata": {
  "kernelspec": {
   "display_name": "evn",
   "language": "python",
   "name": "python3"
  },
  "language_info": {
   "codemirror_mode": {
    "name": "ipython",
    "version": 3
   },
   "file_extension": ".py",
   "mimetype": "text/x-python",
   "name": "python",
   "nbconvert_exporter": "python",
   "pygments_lexer": "ipython3",
   "version": "3.10.0"
  }
 },
 "nbformat": 4,
 "nbformat_minor": 2
}
